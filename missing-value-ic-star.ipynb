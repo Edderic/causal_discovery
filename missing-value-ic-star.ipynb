{
 "cells": [
  {
   "cell_type": "code",
   "execution_count": 3,
   "metadata": {},
   "outputs": [],
   "source": [
    "import pandas as pd\n",
    "import numpy as np\n",
    "import statsmodels.api as sm\n",
    "import sklearn as skl\n",
    "from sklearn.model_selection import train_test_split\n",
    "from sklearn.preprocessing import minmax_scale"
   ]
  },
  {
   "cell_type": "code",
   "execution_count": 4,
   "metadata": {},
   "outputs": [
    {
     "data": {
      "text/plain": [
       "array([[0],\n",
       "       [1],\n",
       "       [2],\n",
       "       [3],\n",
       "       [4],\n",
       "       [5]])"
      ]
     },
     "execution_count": 4,
     "metadata": {},
     "output_type": "execute_result"
    }
   ],
   "source": [
    "from sklearn.neighbors import NearestNeighbors\n",
    "from sklearn.ensemble import RandomForestClassifier, GradientBoostingClassifier\n",
    "import numpy as np\n",
    "X = np.array([[-1, -1], [-2, -1], [-3, -2], [1, 1], [2, 1], [3, 2]])\n",
    "nbrs = NearestNeighbors(n_neighbors=1, algorithm='ball_tree').fit(X)\n",
    "distances, indices = nbrs.kneighbors(X)\n",
    "indices"
   ]
  },
  {
   "cell_type": "code",
   "execution_count": 5,
   "metadata": {},
   "outputs": [
    {
     "data": {
      "text/plain": [
       "array([0, 1, 2, 3, 4, 5])"
      ]
     },
     "execution_count": 5,
     "metadata": {},
     "output_type": "execute_result"
    }
   ],
   "source": [
    "indices.reshape(1,6)[0]"
   ]
  },
  {
   "cell_type": "code",
   "execution_count": 6,
   "metadata": {},
   "outputs": [
    {
     "data": {
      "text/plain": [
       "array([[0.],\n",
       "       [0.],\n",
       "       [0.],\n",
       "       [0.],\n",
       "       [0.],\n",
       "       [0.]])"
      ]
     },
     "execution_count": 6,
     "metadata": {},
     "output_type": "execute_result"
    }
   ],
   "source": [
    "distances"
   ]
  },
  {
   "cell_type": "markdown",
   "metadata": {},
   "source": [
    "IC* Algorithm with Missing Data\n",
    "\n",
    "SkeletonFinder\n",
    "\n",
    "PairwiseConditionalIndependenceTester\n",
    "    - variables to compare\n",
    "    - conditioning set\n",
    "    \n",
    "    independent(cutoff?): boolean\n",
    "\n",
    "ImmoralitiesFinder"
   ]
  },
  {
   "cell_type": "markdown",
   "metadata": {},
   "source": [
    "DataSplitter\n",
    "\n",
    "DataGenerator"
   ]
  },
  {
   "cell_type": "markdown",
   "metadata": {},
   "source": [
    "ConditionalIndependenceTester"
   ]
  },
  {
   "cell_type": "code",
   "execution_count": 7,
   "metadata": {},
   "outputs": [],
   "source": [
    "df = pd.DataFrame({ 'hello': ['a','b','c'], 'hi': ['1', '2', '3']})"
   ]
  },
  {
   "cell_type": "code",
   "execution_count": 8,
   "metadata": {},
   "outputs": [
    {
     "data": {
      "text/html": [
       "<div>\n",
       "<style scoped>\n",
       "    .dataframe tbody tr th:only-of-type {\n",
       "        vertical-align: middle;\n",
       "    }\n",
       "\n",
       "    .dataframe tbody tr th {\n",
       "        vertical-align: top;\n",
       "    }\n",
       "\n",
       "    .dataframe thead th {\n",
       "        text-align: right;\n",
       "    }\n",
       "</style>\n",
       "<table border=\"1\" class=\"dataframe\">\n",
       "  <thead>\n",
       "    <tr style=\"text-align: right;\">\n",
       "      <th></th>\n",
       "      <th>hello</th>\n",
       "      <th>hi</th>\n",
       "    </tr>\n",
       "  </thead>\n",
       "  <tbody>\n",
       "    <tr>\n",
       "      <th>0</th>\n",
       "      <td>a</td>\n",
       "      <td>1</td>\n",
       "    </tr>\n",
       "  </tbody>\n",
       "</table>\n",
       "</div>"
      ],
      "text/plain": [
       "  hello hi\n",
       "0     a  1"
      ]
     },
     "execution_count": 8,
     "metadata": {},
     "output_type": "execute_result"
    }
   ],
   "source": [
    "df.iloc[:1]"
   ]
  },
  {
   "cell_type": "code",
   "execution_count": 9,
   "metadata": {},
   "outputs": [
    {
     "data": {
      "text/html": [
       "<div>\n",
       "<style scoped>\n",
       "    .dataframe tbody tr th:only-of-type {\n",
       "        vertical-align: middle;\n",
       "    }\n",
       "\n",
       "    .dataframe tbody tr th {\n",
       "        vertical-align: top;\n",
       "    }\n",
       "\n",
       "    .dataframe thead th {\n",
       "        text-align: right;\n",
       "    }\n",
       "</style>\n",
       "<table border=\"1\" class=\"dataframe\">\n",
       "  <thead>\n",
       "    <tr style=\"text-align: right;\">\n",
       "      <th></th>\n",
       "      <th>hello</th>\n",
       "      <th>hi</th>\n",
       "    </tr>\n",
       "  </thead>\n",
       "  <tbody>\n",
       "    <tr>\n",
       "      <th>0</th>\n",
       "      <td>a</td>\n",
       "      <td>5</td>\n",
       "    </tr>\n",
       "    <tr>\n",
       "      <th>1</th>\n",
       "      <td>b</td>\n",
       "      <td>6</td>\n",
       "    </tr>\n",
       "    <tr>\n",
       "      <th>2</th>\n",
       "      <td>c</td>\n",
       "      <td>7</td>\n",
       "    </tr>\n",
       "  </tbody>\n",
       "</table>\n",
       "</div>"
      ],
      "text/plain": [
       "  hello hi\n",
       "0     a  5\n",
       "1     b  6\n",
       "2     c  7"
      ]
     },
     "execution_count": 9,
     "metadata": {},
     "output_type": "execute_result"
    }
   ],
   "source": [
    "df.at[:,'hi'] = ['5','6','7']\n",
    "df"
   ]
  },
  {
   "cell_type": "code",
   "execution_count": 10,
   "metadata": {},
   "outputs": [
    {
     "data": {
      "text/html": [
       "<div>\n",
       "<style scoped>\n",
       "    .dataframe tbody tr th:only-of-type {\n",
       "        vertical-align: middle;\n",
       "    }\n",
       "\n",
       "    .dataframe tbody tr th {\n",
       "        vertical-align: top;\n",
       "    }\n",
       "\n",
       "    .dataframe thead th {\n",
       "        text-align: right;\n",
       "    }\n",
       "</style>\n",
       "<table border=\"1\" class=\"dataframe\">\n",
       "  <thead>\n",
       "    <tr style=\"text-align: right;\">\n",
       "      <th></th>\n",
       "      <th>hello</th>\n",
       "      <th>hi</th>\n",
       "    </tr>\n",
       "  </thead>\n",
       "  <tbody>\n",
       "    <tr>\n",
       "      <th>0</th>\n",
       "      <td>a</td>\n",
       "      <td>5</td>\n",
       "    </tr>\n",
       "    <tr>\n",
       "      <th>1</th>\n",
       "      <td>b</td>\n",
       "      <td>6</td>\n",
       "    </tr>\n",
       "    <tr>\n",
       "      <th>2</th>\n",
       "      <td>c</td>\n",
       "      <td>7</td>\n",
       "    </tr>\n",
       "  </tbody>\n",
       "</table>\n",
       "</div>"
      ],
      "text/plain": [
       "  hello hi\n",
       "0     a  5\n",
       "1     b  6\n",
       "2     c  7"
      ]
     },
     "execution_count": 10,
     "metadata": {},
     "output_type": "execute_result"
    }
   ],
   "source": [
    "df"
   ]
  },
  {
   "cell_type": "code",
   "execution_count": 11,
   "metadata": {},
   "outputs": [
    {
     "data": {
      "text/html": [
       "<div>\n",
       "<style scoped>\n",
       "    .dataframe tbody tr th:only-of-type {\n",
       "        vertical-align: middle;\n",
       "    }\n",
       "\n",
       "    .dataframe tbody tr th {\n",
       "        vertical-align: top;\n",
       "    }\n",
       "\n",
       "    .dataframe thead th {\n",
       "        text-align: right;\n",
       "    }\n",
       "</style>\n",
       "<table border=\"1\" class=\"dataframe\">\n",
       "  <thead>\n",
       "    <tr style=\"text-align: right;\">\n",
       "      <th></th>\n",
       "      <th>hello</th>\n",
       "      <th>hi</th>\n",
       "    </tr>\n",
       "  </thead>\n",
       "  <tbody>\n",
       "    <tr>\n",
       "      <th>0</th>\n",
       "      <td>a</td>\n",
       "      <td>5</td>\n",
       "    </tr>\n",
       "  </tbody>\n",
       "</table>\n",
       "</div>"
      ],
      "text/plain": [
       "  hello hi\n",
       "0     a  5"
      ]
     },
     "execution_count": 11,
     "metadata": {},
     "output_type": "execute_result"
    }
   ],
   "source": [
    "df.iloc[:int(df.shape[0] / 2)]"
   ]
  },
  {
   "cell_type": "code",
   "execution_count": 12,
   "metadata": {},
   "outputs": [
    {
     "data": {
      "text/html": [
       "<div>\n",
       "<style scoped>\n",
       "    .dataframe tbody tr th:only-of-type {\n",
       "        vertical-align: middle;\n",
       "    }\n",
       "\n",
       "    .dataframe tbody tr th {\n",
       "        vertical-align: top;\n",
       "    }\n",
       "\n",
       "    .dataframe thead th {\n",
       "        text-align: right;\n",
       "    }\n",
       "</style>\n",
       "<table border=\"1\" class=\"dataframe\">\n",
       "  <thead>\n",
       "    <tr style=\"text-align: right;\">\n",
       "      <th></th>\n",
       "      <th>hello</th>\n",
       "      <th>hi</th>\n",
       "    </tr>\n",
       "  </thead>\n",
       "  <tbody>\n",
       "    <tr>\n",
       "      <th>1</th>\n",
       "      <td>b</td>\n",
       "      <td>6</td>\n",
       "    </tr>\n",
       "    <tr>\n",
       "      <th>2</th>\n",
       "      <td>c</td>\n",
       "      <td>7</td>\n",
       "    </tr>\n",
       "  </tbody>\n",
       "</table>\n",
       "</div>"
      ],
      "text/plain": [
       "  hello hi\n",
       "1     b  6\n",
       "2     c  7"
      ]
     },
     "execution_count": 12,
     "metadata": {},
     "output_type": "execute_result"
    }
   ],
   "source": [
    "df.iloc[int(df.shape[0] / 2):]"
   ]
  },
  {
   "cell_type": "code",
   "execution_count": 13,
   "metadata": {},
   "outputs": [
    {
     "data": {
      "text/html": [
       "<div>\n",
       "<style scoped>\n",
       "    .dataframe tbody tr th:only-of-type {\n",
       "        vertical-align: middle;\n",
       "    }\n",
       "\n",
       "    .dataframe tbody tr th {\n",
       "        vertical-align: top;\n",
       "    }\n",
       "\n",
       "    .dataframe thead th {\n",
       "        text-align: right;\n",
       "    }\n",
       "</style>\n",
       "<table border=\"1\" class=\"dataframe\">\n",
       "  <thead>\n",
       "    <tr style=\"text-align: right;\">\n",
       "      <th></th>\n",
       "      <th>hello</th>\n",
       "      <th>hi</th>\n",
       "    </tr>\n",
       "  </thead>\n",
       "  <tbody>\n",
       "    <tr>\n",
       "      <th>1</th>\n",
       "      <td>b</td>\n",
       "      <td>6</td>\n",
       "    </tr>\n",
       "    <tr>\n",
       "      <th>2</th>\n",
       "      <td>c</td>\n",
       "      <td>7</td>\n",
       "    </tr>\n",
       "  </tbody>\n",
       "</table>\n",
       "</div>"
      ],
      "text/plain": [
       "  hello hi\n",
       "1     b  6\n",
       "2     c  7"
      ]
     },
     "execution_count": 13,
     "metadata": {},
     "output_type": "execute_result"
    }
   ],
   "source": [
    "df.iloc[int(df.shape[0] / 2):df.shape[0]]"
   ]
  },
  {
   "cell_type": "code",
   "execution_count": 14,
   "metadata": {},
   "outputs": [
    {
     "data": {
      "text/html": [
       "<div>\n",
       "<style scoped>\n",
       "    .dataframe tbody tr th:only-of-type {\n",
       "        vertical-align: middle;\n",
       "    }\n",
       "\n",
       "    .dataframe tbody tr th {\n",
       "        vertical-align: top;\n",
       "    }\n",
       "\n",
       "    .dataframe thead th {\n",
       "        text-align: right;\n",
       "    }\n",
       "</style>\n",
       "<table border=\"1\" class=\"dataframe\">\n",
       "  <thead>\n",
       "    <tr style=\"text-align: right;\">\n",
       "      <th></th>\n",
       "      <th>hello</th>\n",
       "      <th>hi</th>\n",
       "    </tr>\n",
       "  </thead>\n",
       "  <tbody>\n",
       "    <tr>\n",
       "      <th>1</th>\n",
       "      <td>b</td>\n",
       "      <td>6</td>\n",
       "    </tr>\n",
       "    <tr>\n",
       "      <th>1</th>\n",
       "      <td>b</td>\n",
       "      <td>6</td>\n",
       "    </tr>\n",
       "  </tbody>\n",
       "</table>\n",
       "</div>"
      ],
      "text/plain": [
       "  hello hi\n",
       "1     b  6\n",
       "1     b  6"
      ]
     },
     "execution_count": 14,
     "metadata": {},
     "output_type": "execute_result"
    }
   ],
   "source": [
    "df.iloc[[1,1]]"
   ]
  },
  {
   "cell_type": "code",
   "execution_count": 15,
   "metadata": {},
   "outputs": [
    {
     "data": {
      "text/plain": [
       "1"
      ]
     },
     "execution_count": 15,
     "metadata": {},
     "output_type": "execute_result"
    }
   ],
   "source": [
    "int(3 / 2)"
   ]
  },
  {
   "cell_type": "code",
   "execution_count": 16,
   "metadata": {},
   "outputs": [
    {
     "data": {
      "text/plain": [
       "1    6\n",
       "2    7\n",
       "0    5\n",
       "Name: hi, dtype: object"
      ]
     },
     "execution_count": 16,
     "metadata": {},
     "output_type": "execute_result"
    }
   ],
   "source": [
    "df['hi'].sample(n=df.shape[0])"
   ]
  },
  {
   "cell_type": "code",
   "execution_count": 17,
   "metadata": {},
   "outputs": [
    {
     "data": {
      "text/html": [
       "<div>\n",
       "<style scoped>\n",
       "    .dataframe tbody tr th:only-of-type {\n",
       "        vertical-align: middle;\n",
       "    }\n",
       "\n",
       "    .dataframe tbody tr th {\n",
       "        vertical-align: top;\n",
       "    }\n",
       "\n",
       "    .dataframe thead th {\n",
       "        text-align: right;\n",
       "    }\n",
       "</style>\n",
       "<table border=\"1\" class=\"dataframe\">\n",
       "  <thead>\n",
       "    <tr style=\"text-align: right;\">\n",
       "      <th></th>\n",
       "      <th>hi</th>\n",
       "      <th>hello</th>\n",
       "    </tr>\n",
       "  </thead>\n",
       "  <tbody>\n",
       "    <tr>\n",
       "      <th>0</th>\n",
       "      <td>5</td>\n",
       "      <td>a</td>\n",
       "    </tr>\n",
       "    <tr>\n",
       "      <th>2</th>\n",
       "      <td>7</td>\n",
       "      <td>c</td>\n",
       "    </tr>\n",
       "    <tr>\n",
       "      <th>1</th>\n",
       "      <td>6</td>\n",
       "      <td>b</td>\n",
       "    </tr>\n",
       "  </tbody>\n",
       "</table>\n",
       "</div>"
      ],
      "text/plain": [
       "  hi hello\n",
       "0  5     a\n",
       "2  7     c\n",
       "1  6     b"
      ]
     },
     "execution_count": 17,
     "metadata": {},
     "output_type": "execute_result"
    }
   ],
   "source": [
    "df[['hi', 'hello']].sample(n=df.shape[0])"
   ]
  },
  {
   "cell_type": "code",
   "execution_count": 18,
   "metadata": {},
   "outputs": [
    {
     "data": {
      "text/html": [
       "<div>\n",
       "<style scoped>\n",
       "    .dataframe tbody tr th:only-of-type {\n",
       "        vertical-align: middle;\n",
       "    }\n",
       "\n",
       "    .dataframe tbody tr th {\n",
       "        vertical-align: top;\n",
       "    }\n",
       "\n",
       "    .dataframe thead th {\n",
       "        text-align: right;\n",
       "    }\n",
       "</style>\n",
       "<table border=\"1\" class=\"dataframe\">\n",
       "  <thead>\n",
       "    <tr style=\"text-align: right;\">\n",
       "      <th></th>\n",
       "      <th>hi</th>\n",
       "      <th>hello</th>\n",
       "    </tr>\n",
       "  </thead>\n",
       "  <tbody>\n",
       "    <tr>\n",
       "      <th>1</th>\n",
       "      <td>6</td>\n",
       "      <td>b</td>\n",
       "    </tr>\n",
       "    <tr>\n",
       "      <th>2</th>\n",
       "      <td>7</td>\n",
       "      <td>c</td>\n",
       "    </tr>\n",
       "    <tr>\n",
       "      <th>0</th>\n",
       "      <td>5</td>\n",
       "      <td>a</td>\n",
       "    </tr>\n",
       "  </tbody>\n",
       "</table>\n",
       "</div>"
      ],
      "text/plain": [
       "  hi hello\n",
       "1  6     b\n",
       "2  7     c\n",
       "0  5     a"
      ]
     },
     "execution_count": 18,
     "metadata": {},
     "output_type": "execute_result"
    }
   ],
   "source": [
    "df[['hi', 'hello']].sample(n=df.shape[0])"
   ]
  },
  {
   "cell_type": "code",
   "execution_count": 19,
   "metadata": {},
   "outputs": [
    {
     "data": {
      "text/html": [
       "<div>\n",
       "<style scoped>\n",
       "    .dataframe tbody tr th:only-of-type {\n",
       "        vertical-align: middle;\n",
       "    }\n",
       "\n",
       "    .dataframe tbody tr th {\n",
       "        vertical-align: top;\n",
       "    }\n",
       "\n",
       "    .dataframe thead th {\n",
       "        text-align: right;\n",
       "    }\n",
       "</style>\n",
       "<table border=\"1\" class=\"dataframe\">\n",
       "  <thead>\n",
       "    <tr style=\"text-align: right;\">\n",
       "      <th></th>\n",
       "      <th>hi</th>\n",
       "      <th>hello</th>\n",
       "    </tr>\n",
       "  </thead>\n",
       "  <tbody>\n",
       "    <tr>\n",
       "      <th>0</th>\n",
       "      <td>5</td>\n",
       "      <td>a</td>\n",
       "    </tr>\n",
       "    <tr>\n",
       "      <th>1</th>\n",
       "      <td>6</td>\n",
       "      <td>b</td>\n",
       "    </tr>\n",
       "    <tr>\n",
       "      <th>2</th>\n",
       "      <td>7</td>\n",
       "      <td>c</td>\n",
       "    </tr>\n",
       "  </tbody>\n",
       "</table>\n",
       "</div>"
      ],
      "text/plain": [
       "  hi hello\n",
       "0  5     a\n",
       "1  6     b\n",
       "2  7     c"
      ]
     },
     "execution_count": 19,
     "metadata": {},
     "output_type": "execute_result"
    }
   ],
   "source": [
    "pd.concat([df[['hi']], df[['hello']]], axis=1)"
   ]
  },
  {
   "cell_type": "code",
   "execution_count": 20,
   "metadata": {},
   "outputs": [],
   "source": [
    "df = pd.DataFrame({'hi': np.random.normal(loc=0, scale=1.0, size=1000), 'hello': np.random.normal(loc=0, scale=1.0, size=1000), 'ho': np.random.normal(loc=0, scale=1.0, size=1000)})"
   ]
  },
  {
   "cell_type": "code",
   "execution_count": 21,
   "metadata": {},
   "outputs": [
    {
     "data": {
      "text/html": [
       "<div>\n",
       "<style scoped>\n",
       "    .dataframe tbody tr th:only-of-type {\n",
       "        vertical-align: middle;\n",
       "    }\n",
       "\n",
       "    .dataframe tbody tr th {\n",
       "        vertical-align: top;\n",
       "    }\n",
       "\n",
       "    .dataframe thead th {\n",
       "        text-align: right;\n",
       "    }\n",
       "</style>\n",
       "<table border=\"1\" class=\"dataframe\">\n",
       "  <thead>\n",
       "    <tr style=\"text-align: right;\">\n",
       "      <th></th>\n",
       "      <th>hi</th>\n",
       "      <th>hello</th>\n",
       "      <th>ho</th>\n",
       "    </tr>\n",
       "  </thead>\n",
       "  <tbody>\n",
       "    <tr>\n",
       "      <th>441</th>\n",
       "      <td>-0.180949</td>\n",
       "      <td>-1.559593</td>\n",
       "      <td>3.084441</td>\n",
       "    </tr>\n",
       "  </tbody>\n",
       "</table>\n",
       "</div>"
      ],
      "text/plain": [
       "           hi     hello        ho\n",
       "441 -0.180949 -1.559593  3.084441"
      ]
     },
     "execution_count": 21,
     "metadata": {},
     "output_type": "execute_result"
    }
   ],
   "source": [
    "df.sample()"
   ]
  },
  {
   "cell_type": "code",
   "execution_count": 22,
   "metadata": {},
   "outputs": [],
   "source": [
    "class ConditionallyIndependentDataGenerator:\n",
    "    \"\"\"\n",
    "        Main idea is to generate a data set that satisfies X _||_ Y | Z: X is independent of\n",
    "        Y given Z, which is satisfied if f(x|z)f(y|z)f(z) = f(x,y,z). We're able to do this\n",
    "        by splitting the data set into two. For the first data set, find the 1-Nearest \n",
    "        Neighbors from the second data set using z. Then pick the Y from the second data set \n",
    "        and set that as the new Y for the first data set. This amounts to sampling f(y | z).\n",
    "        We already have f(x|z) and f(z) in the first data set, so by returning the first data \n",
    "        set, we have f(x|z)f(y|z)f(z) = f(x,y,z).\n",
    "        \n",
    "        @param data [pandas.DataFrame] Part of the columns are the conditioning_set_names \n",
    "            and swappables as columns. \n",
    "        \n",
    "        @param conditioning_set_names [List[String]] List of String names of what we're \n",
    "        conditioning on (i.e. Z in the example above). Defaults to empty list.\n",
    "        \n",
    "        @param swappables [List[String]] The variable we're copying from half of the data \n",
    "        set.\n",
    "    \"\"\"\n",
    "    def __init__(self, data, swappables, conditioning_set_names=[]):\n",
    "        self.swappables = swappables\n",
    "        self.conditioning_set_names = conditioning_set_names\n",
    "        self.data = data\n",
    "        \n",
    "        half_length = int(data.shape[0] / 2)\n",
    "            \n",
    "        self.data_1 = data.iloc[:half_length].copy()\n",
    "        self.data_2 = data.iloc[half_length:self.__end_index__()].copy()\n",
    "        \n",
    "        assert len(swappables) >= 1\n",
    "        assert self.data_1.shape[0] == self.data_2.shape[0]\n",
    "        \n",
    "    \"\"\"\n",
    "        Generates a conditionally independent data set.\n",
    "        \n",
    "        @return [pandas.DataFrame] DataFrame with half the length of the original data passed in\n",
    "        the init method.\n",
    "    \"\"\"\n",
    "    def generate(self):\n",
    "        columns = self.data_1.columns \n",
    "        not_swappables = list(set(columns) - set(self.swappables))\n",
    "            \n",
    "        if len(self.conditioning_set_names) == 0:\n",
    "            # shuffle the swappable part to break dependence between \"swappable\" and \n",
    "            # \"not swappable\" columns\n",
    "            \n",
    "            return pd.concat(\n",
    "                [\n",
    "                    self.data_1[not_swappables].reset_index(drop=True),\n",
    "                    self.data_1[self.swappables]\\\n",
    "                        .sample(n=self.data_1.shape[0]).reset_index(drop=True)\n",
    "                ],\n",
    "                axis=1\n",
    "            )\n",
    "        \n",
    "        data_1_cond_set = self.data_1[self.conditioning_set_names].copy()\n",
    "        data_2_cond_set = self.data_2[self.conditioning_set_names].copy()\n",
    "    \n",
    "        nbrs = NearestNeighbors(n_neighbors=1, algorithm='ball_tree').\\\n",
    "            fit(data_1_cond_set.values)\n",
    "        \n",
    "        _, indices = nbrs.kneighbors(data_2_cond_set.values)\n",
    "        \n",
    "        data_2_nearest_neighbors = self.data_2.iloc[indices.reshape(1, indices.shape[0])[0]]\n",
    "        \n",
    "        data_1_concatables = self.data_1[not_swappables]\n",
    "        data_2_concatables = data_2_nearest_neighbors[self.swappables]\n",
    "        \n",
    "        return pd.concat(\n",
    "            [\n",
    "                data_1_concatables.reset_index(drop=True),\n",
    "                data_2_concatables.reset_index(drop=True)\n",
    "            ],\n",
    "            axis=1\n",
    "        )\n",
    "        \n",
    "    \"\"\"\n",
    "        Meant to help enforce equal sizes for the two data sets to make later steps \n",
    "        (e.g swapping) easier.\n",
    "    \"\"\"\n",
    "    \n",
    "    def __end_index__(self):\n",
    "        if self.data.shape[0] % 2 != 0:\n",
    "            return self.data.shape[0] - 1\n",
    "        else: \n",
    "            return self.data.shape[0]\n",
    "        "
   ]
  },
  {
   "cell_type": "code",
   "execution_count": 23,
   "metadata": {},
   "outputs": [],
   "source": [
    "class ConditionalIndependenceTester:\n",
    "    \"\"\"\n",
    "        @param data [pandas.DataFrame] \n",
    "        @param comparables_1 [List[Strings]] List of variable names.\n",
    "        @param comparables_2 [List[Strings]] List of variable names.\n",
    "        @param conditioning_set = [List[Strings]] The list of variable names \n",
    "            corresponding to the conditioning set.\n",
    "    \"\"\"\n",
    "    def __init__(self, data, comparables_1, comparables_2, conditioning_set=[]):\n",
    "        self.data = data\n",
    "        self.comparables_1 = comparables_1\n",
    "        self.comparables_2 = comparables_2\n",
    "        self.conditioning_set = conditioning_set\n",
    "        \n",
    "        assert len(self.comparables_1) >= 1\n",
    "        assert len(self.comparables_2) >= 1\n",
    "        \n",
    "    \"\"\"\n",
    "        Tests the conditional independence X _||_ Y | Z.\n",
    "        \n",
    "        X represents comparables_1 param (passed in to the init method).\n",
    "        Y represents comparables_2 param (passed in to the init method).\n",
    "        Z represents the conditioning_set (passed in to the init method).\n",
    "            Could be empty.\n",
    "            \n",
    "        @return boolean\n",
    "    \"\"\"\n",
    "    def is_independent(self):\n",
    "        data_1_length = int(self.data.shape[0] / 3)\n",
    "        data_1 = self.data.iloc[0:data_1_length].copy()\n",
    "        data_2 = self.data.iloc[data_1_length:]\n",
    "        \n",
    "        cid_generator = ConditionallyIndependentDataGenerator(\n",
    "            data=data_2, \n",
    "            swappables=self.comparables_2\n",
    "        )\n",
    "        \n",
    "        conditionally_indep_data = cid_generator.generate()\n",
    "        \n",
    "        data_1['label'] = 1\n",
    "        conditionally_indep_data['label'] = 0\n",
    "        \n",
    "        train_and_test_data = pd.concat([\n",
    "            data_1,\n",
    "            conditionally_indep_data\n",
    "        ])\n",
    "        \n",
    "        predictors = list(set(train_and_test_data.columns) - set(['label']))\n",
    "        \n",
    "        X = train_and_test_data[predictors].values\n",
    "        y = train_and_test_data['label']\n",
    "        \n",
    "        X_train, X_test, y_train, y_test = train_test_split(\n",
    "            X, y, test_size=0.5, stratify=y\n",
    "        )\n",
    "        \n",
    "        clf = RandomForestClassifier()\n",
    "        clf.fit(X_train, y_train)\n",
    "        return clf.score(X_test, y_test) <= 0.54"
   ]
  },
  {
   "cell_type": "code",
   "execution_count": 24,
   "metadata": {},
   "outputs": [],
   "source": [
    "def percent_independent(results):\n",
    "    \"\"\"\n",
    "        @param results [List[Boolean]] True if independent, False if dependent\n",
    "        \n",
    "        @return percent of true count / results count\n",
    "    \"\"\"\n",
    "    \n",
    "    return results.sum() / len(results)"
   ]
  },
  {
   "cell_type": "code",
   "execution_count": 25,
   "metadata": {},
   "outputs": [],
   "source": [
    "def test_a_bunch(func, num_times=1000, size=1000):\n",
    "    results = []\n",
    "    \n",
    "    for i in range(num_times):\n",
    "        results.append(func(size))\n",
    "    \n",
    "    return np.array(results)"
   ]
  },
  {
   "cell_type": "code",
   "execution_count": 26,
   "metadata": {},
   "outputs": [],
   "source": [
    "def dependent_two_vars(size=1000):\n",
    "    x = np.random.normal(size=size)\n",
    "    u = np.random.normal(size=size)\n",
    "    y = x + u\n",
    "    uncond_indep_df = pd.DataFrame({'x': x, 'y': y})\n",
    "\n",
    "    tester = ConditionalIndependenceTester(data=uncond_indep_df, comparables_1=['x'], comparables_2=['y'])\n",
    "    return tester.is_independent()"
   ]
  },
  {
   "cell_type": "code",
   "execution_count": 27,
   "metadata": {},
   "outputs": [],
   "source": [
    "def independent_two_vars(size=1000):\n",
    "    x = np.random.normal(size=size)\n",
    "    y = np.random.normal(size=size)\n",
    "    df = pd.DataFrame({'x': x, 'y': y})\n",
    "\n",
    "    tester = ConditionalIndependenceTester(data=df, comparables_1=['x'], comparables_2=['y'])\n",
    "    return tester.is_independent()"
   ]
  },
  {
   "cell_type": "markdown",
   "metadata": {},
   "source": [
    "Test cases:\n",
    "\n",
    "\n",
    "\n",
    "* $X \\perp Y | Z$\n",
    "    - fork\n",
    "    - chain\n",
    "    \n",
    "* $X \\not\\perp Y | Z$\n",
    "    - collider case\n",
    "    - fork with unobserved confounding\n",
    "    - chain with unobserved confounding\n",
    "\n",
    "* Variable type\n",
    "    - Discrete variables\n",
    "    - Continuous variables\n",
    "    - Mix of Discrete and Continuous variables\n",
    "\n",
    "* Positivity\n"
   ]
  },
  {
   "cell_type": "code",
   "execution_count": null,
   "metadata": {},
   "outputs": [],
   "source": [
    "percent_independent(test_a_bunch(func=dependent_two_vars, size=10000))"
   ]
  },
  {
   "cell_type": "code",
   "execution_count": 321,
   "metadata": {},
   "outputs": [
    {
     "data": {
      "text/plain": [
       "1.0"
      ]
     },
     "execution_count": 321,
     "metadata": {},
     "output_type": "execute_result"
    }
   ],
   "source": [
    "percent_independent(test_a_bunch(func=independent_two_vars, size=10000))"
   ]
  },
  {
   "cell_type": "code",
   "execution_count": 315,
   "metadata": {},
   "outputs": [
    {
     "data": {
      "text/plain": [
       "0.034"
      ]
     },
     "execution_count": 315,
     "metadata": {},
     "output_type": "execute_result"
    }
   ],
   "source": [
    "percent_independent(test_a_bunch(func=dependent_two_vars, size=1000))"
   ]
  },
  {
   "cell_type": "code",
   "execution_count": 316,
   "metadata": {},
   "outputs": [
    {
     "data": {
      "text/plain": [
       "0.917"
      ]
     },
     "execution_count": 316,
     "metadata": {},
     "output_type": "execute_result"
    }
   ],
   "source": [
    "percent_independent(test_a_bunch(func=independent_two_vars, size=1000))"
   ]
  },
  {
   "cell_type": "code",
   "execution_count": 318,
   "metadata": {},
   "outputs": [
    {
     "data": {
      "text/plain": [
       "0.415"
      ]
     },
     "execution_count": 318,
     "metadata": {},
     "output_type": "execute_result"
    }
   ],
   "source": [
    "percent_independent(test_a_bunch(func=dependent_two_vars, size=100))"
   ]
  },
  {
   "cell_type": "code",
   "execution_count": 319,
   "metadata": {},
   "outputs": [
    {
     "data": {
      "text/plain": [
       "0.659"
      ]
     },
     "execution_count": 319,
     "metadata": {},
     "output_type": "execute_result"
    }
   ],
   "source": [
    "percent_independent(test_a_bunch(func=independent_two_vars, size=100))"
   ]
  },
  {
   "cell_type": "code",
   "execution_count": 294,
   "metadata": {},
   "outputs": [
    {
     "data": {
      "text/plain": [
       "0"
      ]
     },
     "execution_count": 294,
     "metadata": {},
     "output_type": "execute_result"
    }
   ],
   "source": [
    "dep_two_vars_results.sum()"
   ]
  },
  {
   "cell_type": "code",
   "execution_count": 28,
   "metadata": {},
   "outputs": [
    {
     "data": {
      "text/plain": [
       "True"
      ]
     },
     "execution_count": 28,
     "metadata": {},
     "output_type": "execute_result"
    }
   ],
   "source": [
    "x = np.random.normal(size=1000)\n",
    "y = np.random.normal(size=1000)\n",
    "uncond_indep_df = pd.DataFrame({'x': x, 'y': y})\n",
    "\n",
    "tester = ConditionalIndependenceTester(data=uncond_indep_df, comparables_1=['x'], comparables_2=['y'])\n",
    "tester.is_independent()"
   ]
  },
  {
   "cell_type": "code",
   "execution_count": 29,
   "metadata": {},
   "outputs": [
    {
     "ename": "NameError",
     "evalue": "name 'blah' is not defined",
     "output_type": "error",
     "traceback": [
      "\u001b[0;31m---------------------------------------------------------------------------\u001b[0m",
      "\u001b[0;31mNameError\u001b[0m                                 Traceback (most recent call last)",
      "\u001b[0;32m<ipython-input-29-08bccd82e638>\u001b[0m in \u001b[0;36m<module>\u001b[0;34m\u001b[0m\n\u001b[0;32m----> 1\u001b[0;31m \u001b[0mblah\u001b[0m\u001b[0;34m.\u001b[0m\u001b[0mplot\u001b[0m\u001b[0;34m.\u001b[0m\u001b[0mscatter\u001b[0m\u001b[0;34m(\u001b[0m\u001b[0mx\u001b[0m\u001b[0;34m=\u001b[0m\u001b[0;34m'x'\u001b[0m\u001b[0;34m,\u001b[0m\u001b[0my\u001b[0m\u001b[0;34m=\u001b[0m\u001b[0;34m'y'\u001b[0m\u001b[0;34m)\u001b[0m\u001b[0;34m\u001b[0m\u001b[0;34m\u001b[0m\u001b[0m\n\u001b[0m",
      "\u001b[0;31mNameError\u001b[0m: name 'blah' is not defined"
     ]
    }
   ],
   "source": [
    "blah.plot.scatter(x='x',y='y')"
   ]
  },
  {
   "cell_type": "code",
   "execution_count": 30,
   "metadata": {},
   "outputs": [
    {
     "ename": "NameError",
     "evalue": "name 'blah' is not defined",
     "output_type": "error",
     "traceback": [
      "\u001b[0;31m---------------------------------------------------------------------------\u001b[0m",
      "\u001b[0;31mNameError\u001b[0m                                 Traceback (most recent call last)",
      "\u001b[0;32m<ipython-input-30-ab3f38bc2fed>\u001b[0m in \u001b[0;36m<module>\u001b[0;34m\u001b[0m\n\u001b[0;32m----> 1\u001b[0;31m \u001b[0mblah\u001b[0m\u001b[0;34m[\u001b[0m\u001b[0mblah\u001b[0m\u001b[0;34m[\u001b[0m\u001b[0;34m'label'\u001b[0m\u001b[0;34m]\u001b[0m \u001b[0;34m==\u001b[0m \u001b[0;36m1\u001b[0m\u001b[0;34m]\u001b[0m\u001b[0;34m.\u001b[0m\u001b[0mplot\u001b[0m\u001b[0;34m.\u001b[0m\u001b[0mscatter\u001b[0m\u001b[0;34m(\u001b[0m\u001b[0mx\u001b[0m\u001b[0;34m=\u001b[0m\u001b[0;34m'x'\u001b[0m\u001b[0;34m,\u001b[0m \u001b[0my\u001b[0m\u001b[0;34m=\u001b[0m\u001b[0;34m'y'\u001b[0m\u001b[0;34m)\u001b[0m\u001b[0;34m\u001b[0m\u001b[0;34m\u001b[0m\u001b[0m\n\u001b[0m",
      "\u001b[0;31mNameError\u001b[0m: name 'blah' is not defined"
     ]
    }
   ],
   "source": [
    "blah[blah['label'] == 1].plot.scatter(x='x', y='y')"
   ]
  },
  {
   "cell_type": "code",
   "execution_count": 224,
   "metadata": {},
   "outputs": [
    {
     "data": {
      "text/plain": [
       "<matplotlib.axes._subplots.AxesSubplot at 0x7f9cb0d98150>"
      ]
     },
     "execution_count": 224,
     "metadata": {},
     "output_type": "execute_result"
    },
    {
     "data": {
      "image/png": "[encoded data removed]",
      "text/plain": [
       "<Figure size 432x288 with 1 Axes>"
      ]
     },
     "metadata": {
      "needs_background": "light"
     },
     "output_type": "display_data"
    }
   ],
   "source": [
    "blah[blah['label'] == 0].plot.scatter(x='x', y='y')"
   ]
  },
  {
   "cell_type": "code",
   "execution_count": 44,
   "metadata": {},
   "outputs": [],
   "source": [
    "class DataPreprocessor:\n",
    "    NON_ORDINAL_SCALER = 0.707\n",
    "    \n",
    "    \"\"\"\n",
    "        ConditionalIndependenceTester uses Nearest Neighbor methods. In\n",
    "        order for them to work, we would need to represent our data as a\n",
    "        vector of numeric values (i.e. strings are not allowed). \n",
    "        \n",
    "        One property we'd like to have is for each variable to have the \n",
    "        same strength of influence on distance measures, such as the \n",
    "        Euclidean distance.\n",
    "        \n",
    "        Here's the strategy that is being used here to implement that:\n",
    "        \n",
    "        For continuous data, we will scale the data between 0 and 1.\n",
    "        \n",
    "        For non-ordinal categorical data, we could dummify / one-hot-encode \n",
    "        them. Once they are one-hot encoded, we could scale the\n",
    "        one-hot-encoding by 1/sqrt(2) so that categorical data weighs the \n",
    "        same as a continuous variable.\n",
    "        \n",
    "        Example:\n",
    "        \n",
    "        Let's say we have A as a categorical variable Race with possible\n",
    "        values [Black, Asian, White], and let's say B represents the Grade\n",
    "        on a test -- a continuous variable between 0 and 100.\n",
    "        \n",
    "        For var A:\n",
    "        \n",
    "        We dummify Race so that its represented by three dummy variables:\n",
    "        Race_Black, Race_Asian, Race_White.\n",
    "        \n",
    "        If a person is Black, then they would be represented with a vector \n",
    "        of [1, 0, 0], where the indexes correspond to the dummies in order.\n",
    "        We re-scale this to [1/sqrt(2), 0] =~ [0.71, 0].\n",
    "        \n",
    "        For var B:\n",
    "        \n",
    "        We re-scale B to [0,1] so that 18 corresponds with 0, and 45 \n",
    "        corresponds with 45.\n",
    "        \n",
    "        Let's do some comparisons from a Euclidean distance point of view:\n",
    "        \n",
    "        Scenario 1: \n",
    "        \n",
    "        Let's have two individuals: same Race but different Grade, e.g. \n",
    "        a White person with Grade 0 vs. a White person with Grade 100.\n",
    "        \n",
    "        The columns are ordered as follows: Race_Black, Race_Asian, \n",
    "        Race_White, Grade.\n",
    "        \n",
    "        White person with Grade 0 will be represented as [-0.7, -0.7, 0.7, -1]\n",
    "        while a White person with Grade 100 is represented as [-0.7, -0.7, 0.7, 1].\n",
    "        \n",
    "        Euclidean distance would be:\n",
    "            sqrt(\n",
    "                (-0.7 - -0.7)^2 + \n",
    "                (-0.7 - -0.7)^2 + \n",
    "                (0.7 - 0.7)^2 + \n",
    "                (-1 - 1)^2\n",
    "            ) = 2\n",
    "            \n",
    "        Scenario 2:\n",
    "        \n",
    "        Let's have two individuals: same Grade but different Race, e.g. \n",
    "        a White person with Grade 100 vs. a Black person with Grade 100.\n",
    "    \n",
    "        White person with Grade 100 will be represented as [-0.7, -0.7, 0.7, 1]\n",
    "        while a Black person with Grade 100 is represented as [-0.7, 0.7, -0.7, 1].\n",
    "        \n",
    "        Euclidean distance would be:\n",
    "            sqrt(\n",
    "                (-0.7 - -0.7)^2 + \n",
    "                (-0.7 - 0.7)^2 + \n",
    "                (0.7 - -0.7)^2 + \n",
    "                (1 - 1)^2\n",
    "            ) = 2*(1.4)^2 \n",
    "             ~= 2\n",
    "            \n",
    "        As we can see from the two scenarios, the scaling factor enables us to make\n",
    "        each variable have the same impact on the Euclidean distance metric as other\n",
    "        variables, regardless of the variable being discrete or continuous.\n",
    "        \n",
    "        @param data [pandas.DataFrame] Each column represents data from a variable.\n",
    "        \n",
    "    \"\"\"\n",
    "    def __init__(self, data):\n",
    "        self.data = data\n",
    "        \n",
    "    def preprocess(self):\n",
    "        self._categorize_columns()\n",
    "        self._dummify_non_ordinal_columns()\n",
    "        self._scale_non_ordinal_columns()\n",
    "        self._scale_ordinal_columns()\n",
    "        \n",
    "        return pd.concat(\n",
    "            [\n",
    "                self.non_ordinal_columns,\n",
    "                self.ordinal_columns\n",
    "            ],\n",
    "            axis=1\n",
    "        )\n",
    "        \n",
    "    def _categorize_columns(self):\n",
    "        self.ordinal_column_names = []\n",
    "        self.non_ordinal_column_names = []\n",
    "        \n",
    "        for column_name in self.data.columns:\n",
    "            kind = self.data[column_name].dtype.kind\n",
    "            \n",
    "            if kind == 'O':\n",
    "                self.non_ordinal_column_names.append(column_name)\n",
    "            else:\n",
    "                self.ordinal_column_names.append(column_name)\n",
    "        \n",
    "        \n",
    "\n",
    "    def _dummify_non_ordinal_columns(self):\n",
    "        self.non_ordinal_columns = pd.DataFrame()\n",
    "        \n",
    "        for non_ordinal_column_name in self.non_ordinal_column_names:\n",
    "            self.non_ordinal_columns = pd.concat(\n",
    "                [\n",
    "                    self.non_ordinal_columns,\n",
    "                    pd.get_dummies(\n",
    "                        self.data[non_ordinal_column_name], \n",
    "                        prefix=non_ordinal_column_name, \n",
    "                        prefix_sep=' | '\n",
    "                    )\n",
    "                ],\n",
    "                axis=1\n",
    "            )\n",
    "    \n",
    "    def _scale_non_ordinal_columns(self):\n",
    "        self.non_ordinal_columns = self.non_ordinal_columns * self.NON_ORDINAL_SCALER\n",
    "        \n",
    "    \n",
    "    def _scale_ordinal_columns(self):\n",
    "        self.ordinal_columns = \\\n",
    "            pd.DataFrame(\n",
    "                minmax_scale(\n",
    "                    self.data[self.ordinal_column_names]\n",
    "                ), \n",
    "                columns=self.ordinal_column_names\n",
    "            )"
   ]
  },
  {
   "cell_type": "code",
   "execution_count": 45,
   "metadata": {},
   "outputs": [
    {
     "data": {
      "text/html": [
       "<div>\n",
       "<style scoped>\n",
       "    .dataframe tbody tr th:only-of-type {\n",
       "        vertical-align: middle;\n",
       "    }\n",
       "\n",
       "    .dataframe tbody tr th {\n",
       "        vertical-align: top;\n",
       "    }\n",
       "\n",
       "    .dataframe thead th {\n",
       "        text-align: right;\n",
       "    }\n",
       "</style>\n",
       "<table border=\"1\" class=\"dataframe\">\n",
       "  <thead>\n",
       "    <tr style=\"text-align: right;\">\n",
       "      <th></th>\n",
       "      <th>categorical_non_ordinal</th>\n",
       "      <th>continuous</th>\n",
       "    </tr>\n",
       "  </thead>\n",
       "  <tbody>\n",
       "    <tr>\n",
       "      <th>0</th>\n",
       "      <td>red</td>\n",
       "      <td>-0.271738</td>\n",
       "    </tr>\n",
       "    <tr>\n",
       "      <th>1</th>\n",
       "      <td>white</td>\n",
       "      <td>-0.925739</td>\n",
       "    </tr>\n",
       "    <tr>\n",
       "      <th>2</th>\n",
       "      <td>blue</td>\n",
       "      <td>-1.134635</td>\n",
       "    </tr>\n",
       "  </tbody>\n",
       "</table>\n",
       "</div>"
      ],
      "text/plain": [
       "  categorical_non_ordinal  continuous\n",
       "0                     red   -0.271738\n",
       "1                   white   -0.925739\n",
       "2                    blue   -1.134635"
      ]
     },
     "execution_count": 45,
     "metadata": {},
     "output_type": "execute_result"
    }
   ],
   "source": [
    "sample_df = pd.DataFrame({'categorical_non_ordinal': ['red', 'white', 'blue'], 'continuous': np.random.normal(size=3)})\n",
    "sample_df"
   ]
  },
  {
   "cell_type": "code",
   "execution_count": null,
   "metadata": {},
   "outputs": [],
   "source": []
  },
  {
   "cell_type": "code",
   "execution_count": 46,
   "metadata": {},
   "outputs": [
    {
     "data": {
      "text/html": [
       "<div>\n",
       "<style scoped>\n",
       "    .dataframe tbody tr th:only-of-type {\n",
       "        vertical-align: middle;\n",
       "    }\n",
       "\n",
       "    .dataframe tbody tr th {\n",
       "        vertical-align: top;\n",
       "    }\n",
       "\n",
       "    .dataframe thead th {\n",
       "        text-align: right;\n",
       "    }\n",
       "</style>\n",
       "<table border=\"1\" class=\"dataframe\">\n",
       "  <thead>\n",
       "    <tr style=\"text-align: right;\">\n",
       "      <th></th>\n",
       "      <th>categorical_non_ordinal | blue</th>\n",
       "      <th>categorical_non_ordinal | red</th>\n",
       "      <th>categorical_non_ordinal | white</th>\n",
       "      <th>continuous</th>\n",
       "    </tr>\n",
       "  </thead>\n",
       "  <tbody>\n",
       "    <tr>\n",
       "      <th>0</th>\n",
       "      <td>0.000</td>\n",
       "      <td>0.707</td>\n",
       "      <td>0.000</td>\n",
       "      <td>1.000000</td>\n",
       "    </tr>\n",
       "    <tr>\n",
       "      <th>1</th>\n",
       "      <td>0.000</td>\n",
       "      <td>0.000</td>\n",
       "      <td>0.707</td>\n",
       "      <td>0.242087</td>\n",
       "    </tr>\n",
       "    <tr>\n",
       "      <th>2</th>\n",
       "      <td>0.707</td>\n",
       "      <td>0.000</td>\n",
       "      <td>0.000</td>\n",
       "      <td>0.000000</td>\n",
       "    </tr>\n",
       "  </tbody>\n",
       "</table>\n",
       "</div>"
      ],
      "text/plain": [
       "   categorical_non_ordinal | blue  categorical_non_ordinal | red  \\\n",
       "0                           0.000                          0.707   \n",
       "1                           0.000                          0.000   \n",
       "2                           0.707                          0.000   \n",
       "\n",
       "   categorical_non_ordinal | white  continuous  \n",
       "0                            0.000    1.000000  \n",
       "1                            0.707    0.242087  \n",
       "2                            0.000    0.000000  "
      ]
     },
     "execution_count": 46,
     "metadata": {},
     "output_type": "execute_result"
    }
   ],
   "source": [
    "DataPreprocessor(data=sample_df).preprocess()"
   ]
  },
  {
   "cell_type": "code",
   "execution_count": 350,
   "metadata": {},
   "outputs": [
    {
     "data": {
      "text/plain": [
       "array([[0.        ],\n",
       "       [0.45151568],\n",
       "       [1.        ]])"
      ]
     },
     "execution_count": 350,
     "metadata": {},
     "output_type": "execute_result"
    }
   ],
   "source": [
    "minmax_scale(sample_df[['continuous']])"
   ]
  },
  {
   "cell_type": "code",
   "execution_count": 345,
   "metadata": {},
   "outputs": [
    {
     "data": {
      "text/html": [
       "<div>\n",
       "<style scoped>\n",
       "    .dataframe tbody tr th:only-of-type {\n",
       "        vertical-align: middle;\n",
       "    }\n",
       "\n",
       "    .dataframe tbody tr th {\n",
       "        vertical-align: top;\n",
       "    }\n",
       "\n",
       "    .dataframe thead th {\n",
       "        text-align: right;\n",
       "    }\n",
       "</style>\n",
       "<table border=\"1\" class=\"dataframe\">\n",
       "  <thead>\n",
       "    <tr style=\"text-align: right;\">\n",
       "      <th></th>\n",
       "      <th>Blah | blue</th>\n",
       "      <th>Blah | red</th>\n",
       "      <th>Blah | white</th>\n",
       "    </tr>\n",
       "  </thead>\n",
       "  <tbody>\n",
       "    <tr>\n",
       "      <th>0</th>\n",
       "      <td>0</td>\n",
       "      <td>1</td>\n",
       "      <td>0</td>\n",
       "    </tr>\n",
       "    <tr>\n",
       "      <th>1</th>\n",
       "      <td>0</td>\n",
       "      <td>0</td>\n",
       "      <td>1</td>\n",
       "    </tr>\n",
       "    <tr>\n",
       "      <th>2</th>\n",
       "      <td>1</td>\n",
       "      <td>0</td>\n",
       "      <td>0</td>\n",
       "    </tr>\n",
       "  </tbody>\n",
       "</table>\n",
       "</div>"
      ],
      "text/plain": [
       "   Blah | blue  Blah | red  Blah | white\n",
       "0            0           1             0\n",
       "1            0           0             1\n",
       "2            1           0             0"
      ]
     },
     "execution_count": 345,
     "metadata": {},
     "output_type": "execute_result"
    }
   ],
   "source": [
    "pd.get_dummies(sample_df['categorical_non_ordinal'], prefix='Blah', prefix_sep=' | ')"
   ]
  },
  {
   "cell_type": "code",
   "execution_count": 346,
   "metadata": {},
   "outputs": [
    {
     "data": {
      "text/html": [
       "<div>\n",
       "<style scoped>\n",
       "    .dataframe tbody tr th:only-of-type {\n",
       "        vertical-align: middle;\n",
       "    }\n",
       "\n",
       "    .dataframe tbody tr th {\n",
       "        vertical-align: top;\n",
       "    }\n",
       "\n",
       "    .dataframe thead th {\n",
       "        text-align: right;\n",
       "    }\n",
       "</style>\n",
       "<table border=\"1\" class=\"dataframe\">\n",
       "  <thead>\n",
       "    <tr style=\"text-align: right;\">\n",
       "      <th></th>\n",
       "      <th>Blah | blue</th>\n",
       "      <th>Blah | red</th>\n",
       "      <th>Blah | white</th>\n",
       "    </tr>\n",
       "  </thead>\n",
       "  <tbody>\n",
       "    <tr>\n",
       "      <th>0</th>\n",
       "      <td>-1</td>\n",
       "      <td>0</td>\n",
       "      <td>-1</td>\n",
       "    </tr>\n",
       "    <tr>\n",
       "      <th>1</th>\n",
       "      <td>-1</td>\n",
       "      <td>-1</td>\n",
       "      <td>0</td>\n",
       "    </tr>\n",
       "    <tr>\n",
       "      <th>2</th>\n",
       "      <td>0</td>\n",
       "      <td>-1</td>\n",
       "      <td>-1</td>\n",
       "    </tr>\n",
       "  </tbody>\n",
       "</table>\n",
       "</div>"
      ],
      "text/plain": [
       "   Blah | blue  Blah | red  Blah | white\n",
       "0           -1           0            -1\n",
       "1           -1          -1             0\n",
       "2            0          -1            -1"
      ]
     },
     "execution_count": 346,
     "metadata": {},
     "output_type": "execute_result"
    }
   ],
   "source": [
    "(pd.get_dummies(sample_df['categorical_non_ordinal'], prefix='Blah', prefix_sep=' | ') == 0) * -1"
   ]
  },
  {
   "cell_type": "code",
   "execution_count": 339,
   "metadata": {},
   "outputs": [
    {
     "data": {
      "text/plain": [
       "['__bool__',\n",
       " '__class__',\n",
       " '__delattr__',\n",
       " '__dir__',\n",
       " '__doc__',\n",
       " '__eq__',\n",
       " '__format__',\n",
       " '__ge__',\n",
       " '__getattribute__',\n",
       " '__getitem__',\n",
       " '__gt__',\n",
       " '__hash__',\n",
       " '__init__',\n",
       " '__init_subclass__',\n",
       " '__le__',\n",
       " '__len__',\n",
       " '__lt__',\n",
       " '__mul__',\n",
       " '__ne__',\n",
       " '__new__',\n",
       " '__reduce__',\n",
       " '__reduce_ex__',\n",
       " '__repr__',\n",
       " '__rmul__',\n",
       " '__setattr__',\n",
       " '__setstate__',\n",
       " '__sizeof__',\n",
       " '__str__',\n",
       " '__subclasshook__',\n",
       " 'alignment',\n",
       " 'base',\n",
       " 'byteorder',\n",
       " 'char',\n",
       " 'descr',\n",
       " 'fields',\n",
       " 'flags',\n",
       " 'hasobject',\n",
       " 'isalignedstruct',\n",
       " 'isbuiltin',\n",
       " 'isnative',\n",
       " 'itemsize',\n",
       " 'kind',\n",
       " 'metadata',\n",
       " 'name',\n",
       " 'names',\n",
       " 'ndim',\n",
       " 'newbyteorder',\n",
       " 'num',\n",
       " 'shape',\n",
       " 'str',\n",
       " 'subdtype',\n",
       " 'type']"
      ]
     },
     "execution_count": 339,
     "metadata": {},
     "output_type": "execute_result"
    }
   ],
   "source": [
    "sample_df['categorical_non_ordinal'].dtype"
   ]
  },
  {
   "cell_type": "code",
   "execution_count": 340,
   "metadata": {},
   "outputs": [
    {
     "data": {
      "text/plain": [
       "'O'"
      ]
     },
     "execution_count": 340,
     "metadata": {},
     "output_type": "execute_result"
    }
   ],
   "source": [
    "sample_df['categorical_non_ordinal'].dtype.kind"
   ]
  },
  {
   "cell_type": "code",
   "execution_count": 342,
   "metadata": {},
   "outputs": [
    {
     "data": {
      "text/plain": [
       "'f'"
      ]
     },
     "execution_count": 342,
     "metadata": {},
     "output_type": "execute_result"
    }
   ],
   "source": [
    "sample_df['continuous'].dtype.kind"
   ]
  },
  {
   "cell_type": "code",
   "execution_count": 232,
   "metadata": {},
   "outputs": [
    {
     "data": {
      "text/plain": [
       "0.5435435435435435"
      ]
     },
     "execution_count": 232,
     "metadata": {},
     "output_type": "execute_result"
    }
   ],
   "source": [
    "tester = ConditionalIndependenceTester(data=df, comparables_1=['hi'], comparables_2=['hello'])\n",
    "tester.is_independent()"
   ]
  },
  {
   "cell_type": "code",
   "execution_count": 226,
   "metadata": {},
   "outputs": [
    {
     "data": {
      "text/html": [
       "<div>\n",
       "<style scoped>\n",
       "    .dataframe tbody tr th:only-of-type {\n",
       "        vertical-align: middle;\n",
       "    }\n",
       "\n",
       "    .dataframe tbody tr th {\n",
       "        vertical-align: top;\n",
       "    }\n",
       "\n",
       "    .dataframe thead th {\n",
       "        text-align: right;\n",
       "    }\n",
       "</style>\n",
       "<table border=\"1\" class=\"dataframe\">\n",
       "  <thead>\n",
       "    <tr style=\"text-align: right;\">\n",
       "      <th></th>\n",
       "      <th>hi</th>\n",
       "      <th>hello</th>\n",
       "      <th>ho</th>\n",
       "      <th>label</th>\n",
       "    </tr>\n",
       "  </thead>\n",
       "  <tbody>\n",
       "    <tr>\n",
       "      <th>0</th>\n",
       "      <td>-0.133639</td>\n",
       "      <td>1.598901</td>\n",
       "      <td>-0.079050</td>\n",
       "      <td>1</td>\n",
       "    </tr>\n",
       "    <tr>\n",
       "      <th>1</th>\n",
       "      <td>-0.411727</td>\n",
       "      <td>-0.684785</td>\n",
       "      <td>0.103084</td>\n",
       "      <td>1</td>\n",
       "    </tr>\n",
       "    <tr>\n",
       "      <th>2</th>\n",
       "      <td>-0.008864</td>\n",
       "      <td>0.261622</td>\n",
       "      <td>-0.824324</td>\n",
       "      <td>1</td>\n",
       "    </tr>\n",
       "    <tr>\n",
       "      <th>3</th>\n",
       "      <td>0.930386</td>\n",
       "      <td>1.148742</td>\n",
       "      <td>-0.623888</td>\n",
       "      <td>1</td>\n",
       "    </tr>\n",
       "    <tr>\n",
       "      <th>4</th>\n",
       "      <td>-2.078397</td>\n",
       "      <td>0.325876</td>\n",
       "      <td>0.363324</td>\n",
       "      <td>1</td>\n",
       "    </tr>\n",
       "    <tr>\n",
       "      <th>...</th>\n",
       "      <td>...</td>\n",
       "      <td>...</td>\n",
       "      <td>...</td>\n",
       "      <td>...</td>\n",
       "    </tr>\n",
       "    <tr>\n",
       "      <th>328</th>\n",
       "      <td>-1.040957</td>\n",
       "      <td>0.278325</td>\n",
       "      <td>-0.343993</td>\n",
       "      <td>0</td>\n",
       "    </tr>\n",
       "    <tr>\n",
       "      <th>329</th>\n",
       "      <td>-0.222976</td>\n",
       "      <td>0.324373</td>\n",
       "      <td>1.316642</td>\n",
       "      <td>0</td>\n",
       "    </tr>\n",
       "    <tr>\n",
       "      <th>330</th>\n",
       "      <td>1.347934</td>\n",
       "      <td>-1.959386</td>\n",
       "      <td>-1.185716</td>\n",
       "      <td>0</td>\n",
       "    </tr>\n",
       "    <tr>\n",
       "      <th>331</th>\n",
       "      <td>-0.015295</td>\n",
       "      <td>-0.294935</td>\n",
       "      <td>2.146857</td>\n",
       "      <td>0</td>\n",
       "    </tr>\n",
       "    <tr>\n",
       "      <th>332</th>\n",
       "      <td>0.753490</td>\n",
       "      <td>1.377039</td>\n",
       "      <td>0.162197</td>\n",
       "      <td>0</td>\n",
       "    </tr>\n",
       "  </tbody>\n",
       "</table>\n",
       "<p>666 rows × 4 columns</p>\n",
       "</div>"
      ],
      "text/plain": [
       "           hi     hello        ho  label\n",
       "0   -0.133639  1.598901 -0.079050      1\n",
       "1   -0.411727 -0.684785  0.103084      1\n",
       "2   -0.008864  0.261622 -0.824324      1\n",
       "3    0.930386  1.148742 -0.623888      1\n",
       "4   -2.078397  0.325876  0.363324      1\n",
       "..        ...       ...       ...    ...\n",
       "328 -1.040957  0.278325 -0.343993      0\n",
       "329 -0.222976  0.324373  1.316642      0\n",
       "330  1.347934 -1.959386 -1.185716      0\n",
       "331 -0.015295 -0.294935  2.146857      0\n",
       "332  0.753490  1.377039  0.162197      0\n",
       "\n",
       "[666 rows x 4 columns]"
      ]
     },
     "execution_count": 226,
     "metadata": {},
     "output_type": "execute_result"
    }
   ],
   "source": [
    "tester = ConditionalIndependenceTester(data=df, comparables_1=['hi'], comparables_2=['hello'], conditioning_set=['ho'])\n",
    "tester.is_independent()"
   ]
  },
  {
   "cell_type": "code",
   "execution_count": null,
   "metadata": {},
   "outputs": [],
   "source": [
    "class Pair"
   ]
  }
 ],
 "metadata": {
  "kernelspec": {
   "display_name": "Python 3",
   "language": "python",
   "name": "python3"
  },
  "language_info": {
   "codemirror_mode": {
    "name": "ipython",
    "version": 3
   },
   "file_extension": ".py",
   "mimetype": "text/x-python",
   "name": "python",
   "nbconvert_exporter": "python",
   "pygments_lexer": "ipython3",
   "version": "3.7.8"
  }
 },
 "nbformat": 4,
 "nbformat_minor": 4
}

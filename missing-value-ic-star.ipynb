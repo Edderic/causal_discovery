{
 "cells": [
  {
   "cell_type": "code",
   "execution_count": 1,
   "metadata": {},
   "outputs": [],
   "source": [
    "import pandas as pd\n",
    "import numpy as np\n",
    "import statsmodels.api as sm\n",
    "import sklearn as skl\n",
    "import theano\n",
    "import pymc3 as pm\n",
    "import seaborn as sns\n",
    "from sklearn.model_selection import train_test_split\n",
    "from sklearn.preprocessing import minmax_scale\n",
    "from itertools import combinations "
   ]
  },
  {
   "cell_type": "code",
   "execution_count": 2,
   "metadata": {},
   "outputs": [],
   "source": [
    "from sklearn.neighbors import NearestNeighbors, KNeighborsClassifier\n",
    "from sklearn.ensemble import RandomForestClassifier, GradientBoostingClassifier\n",
    "\n",
    "from sklearn.linear_model import LogisticRegression\n",
    "from sklearn.neural_network import MLPClassifier\n",
    "import numpy as np"
   ]
  },
  {
   "cell_type": "code",
   "execution_count": 3,
   "metadata": {},
   "outputs": [],
   "source": [
    "from conditional_independence import ConditionalIndependenceTester"
   ]
  },
  {
   "cell_type": "markdown",
   "metadata": {},
   "source": [
    "# Missing Data IC* Algorithm\n",
    "\n",
    "\n",
    "MissingDataDummifier\n",
    "EuclideanDistanceDataPreprocessor\n",
    "\n",
    "SkeletonFinder\n",
    "    - take in dataset that has missing data. For each conditional independence test, remove data with missing rows relative to the conditional independence test.\n",
    "- ConditionalIndependenceTester\n",
    "  - ConditionallyIndependentDataGenerator\n",
    "\n",
    "ImmoralitiesFinder"
   ]
  },
  {
   "cell_type": "code",
   "execution_count": 18,
   "metadata": {},
   "outputs": [
    {
     "data": {
      "text/html": [
       "<div>\n",
       "<style scoped>\n",
       "    .dataframe tbody tr th:only-of-type {\n",
       "        vertical-align: middle;\n",
       "    }\n",
       "\n",
       "    .dataframe tbody tr th {\n",
       "        vertical-align: top;\n",
       "    }\n",
       "\n",
       "    .dataframe thead th {\n",
       "        text-align: right;\n",
       "    }\n",
       "</style>\n",
       "<table border=\"1\" class=\"dataframe\">\n",
       "  <thead>\n",
       "    <tr style=\"text-align: right;\">\n",
       "      <th></th>\n",
       "      <th>x</th>\n",
       "      <th>y</th>\n",
       "      <th>z</th>\n",
       "      <th>p</th>\n",
       "    </tr>\n",
       "  </thead>\n",
       "  <tbody>\n",
       "    <tr>\n",
       "      <th>0</th>\n",
       "      <td>1</td>\n",
       "      <td>1</td>\n",
       "      <td>0</td>\n",
       "      <td>0</td>\n",
       "    </tr>\n",
       "    <tr>\n",
       "      <th>1</th>\n",
       "      <td>0</td>\n",
       "      <td>1</td>\n",
       "      <td>1</td>\n",
       "      <td>0</td>\n",
       "    </tr>\n",
       "    <tr>\n",
       "      <th>2</th>\n",
       "      <td>1</td>\n",
       "      <td>1</td>\n",
       "      <td>0</td>\n",
       "      <td>0</td>\n",
       "    </tr>\n",
       "    <tr>\n",
       "      <th>3</th>\n",
       "      <td>0</td>\n",
       "      <td>0</td>\n",
       "      <td>0</td>\n",
       "      <td>0</td>\n",
       "    </tr>\n",
       "    <tr>\n",
       "      <th>4</th>\n",
       "      <td>1</td>\n",
       "      <td>0</td>\n",
       "      <td>1</td>\n",
       "      <td>0</td>\n",
       "    </tr>\n",
       "    <tr>\n",
       "      <th>5</th>\n",
       "      <td>0</td>\n",
       "      <td>0</td>\n",
       "      <td>1</td>\n",
       "      <td>0</td>\n",
       "    </tr>\n",
       "  </tbody>\n",
       "</table>\n",
       "</div>"
      ],
      "text/plain": [
       "   x  y  z  p\n",
       "0  1  1  0  0\n",
       "1  0  1  1  0\n",
       "2  1  1  0  0\n",
       "3  0  0  0  0\n",
       "4  1  0  1  0\n",
       "5  0  0  1  0"
      ]
     },
     "execution_count": 18,
     "metadata": {},
     "output_type": "execute_result"
    }
   ],
   "source": [
    "df = pd.DataFrame({ 'x': [1, 0, 1, 0, 1, 0], 'y': [1,1,1,0,0,0], 'z': [0, 1, 0, 0, 1, 1], 'p': [0, 0, 0, 0, 0, 0] })\n",
    "df"
   ]
  },
  {
   "cell_type": "code",
   "execution_count": 20,
   "metadata": {},
   "outputs": [
    {
     "data": {
      "text/html": [
       "<div>\n",
       "<style scoped>\n",
       "    .dataframe tbody tr th:only-of-type {\n",
       "        vertical-align: middle;\n",
       "    }\n",
       "\n",
       "    .dataframe tbody tr th {\n",
       "        vertical-align: top;\n",
       "    }\n",
       "\n",
       "    .dataframe thead th {\n",
       "        text-align: right;\n",
       "    }\n",
       "</style>\n",
       "<table border=\"1\" class=\"dataframe\">\n",
       "  <thead>\n",
       "    <tr style=\"text-align: right;\">\n",
       "      <th></th>\n",
       "      <th></th>\n",
       "      <th></th>\n",
       "      <th>p</th>\n",
       "    </tr>\n",
       "    <tr>\n",
       "      <th>x</th>\n",
       "      <th>y</th>\n",
       "      <th>z</th>\n",
       "      <th></th>\n",
       "    </tr>\n",
       "  </thead>\n",
       "  <tbody>\n",
       "    <tr>\n",
       "      <th rowspan=\"3\" valign=\"top\">0</th>\n",
       "      <th rowspan=\"2\" valign=\"top\">0</th>\n",
       "      <th>0</th>\n",
       "      <td>1</td>\n",
       "    </tr>\n",
       "    <tr>\n",
       "      <th>1</th>\n",
       "      <td>1</td>\n",
       "    </tr>\n",
       "    <tr>\n",
       "      <th>1</th>\n",
       "      <th>1</th>\n",
       "      <td>1</td>\n",
       "    </tr>\n",
       "    <tr>\n",
       "      <th rowspan=\"2\" valign=\"top\">1</th>\n",
       "      <th>0</th>\n",
       "      <th>1</th>\n",
       "      <td>1</td>\n",
       "    </tr>\n",
       "    <tr>\n",
       "      <th>1</th>\n",
       "      <th>0</th>\n",
       "      <td>2</td>\n",
       "    </tr>\n",
       "  </tbody>\n",
       "</table>\n",
       "</div>"
      ],
      "text/plain": [
       "       p\n",
       "x y z   \n",
       "0 0 0  1\n",
       "    1  1\n",
       "  1 1  1\n",
       "1 0 1  1\n",
       "  1 0  2"
      ]
     },
     "execution_count": 20,
     "metadata": {},
     "output_type": "execute_result"
    }
   ],
   "source": [
    "blah = df.groupby(['x', 'y', 'z']).count()\n",
    "blah"
   ]
  },
  {
   "cell_type": "code",
   "execution_count": 39,
   "metadata": {},
   "outputs": [
    {
     "data": {
      "text/html": [
       "<div>\n",
       "<style scoped>\n",
       "    .dataframe tbody tr th:only-of-type {\n",
       "        vertical-align: middle;\n",
       "    }\n",
       "\n",
       "    .dataframe tbody tr th {\n",
       "        vertical-align: top;\n",
       "    }\n",
       "\n",
       "    .dataframe thead th {\n",
       "        text-align: right;\n",
       "    }\n",
       "</style>\n",
       "<table border=\"1\" class=\"dataframe\">\n",
       "  <thead>\n",
       "    <tr style=\"text-align: right;\">\n",
       "      <th></th>\n",
       "      <th></th>\n",
       "      <th>p</th>\n",
       "    </tr>\n",
       "    <tr>\n",
       "      <th>x</th>\n",
       "      <th>y</th>\n",
       "      <th></th>\n",
       "    </tr>\n",
       "  </thead>\n",
       "  <tbody>\n",
       "    <tr>\n",
       "      <th rowspan=\"2\" valign=\"top\">0</th>\n",
       "      <th>0</th>\n",
       "      <td>2</td>\n",
       "    </tr>\n",
       "    <tr>\n",
       "      <th>1</th>\n",
       "      <td>1</td>\n",
       "    </tr>\n",
       "    <tr>\n",
       "      <th rowspan=\"2\" valign=\"top\">1</th>\n",
       "      <th>0</th>\n",
       "      <td>1</td>\n",
       "    </tr>\n",
       "    <tr>\n",
       "      <th>1</th>\n",
       "      <td>2</td>\n",
       "    </tr>\n",
       "  </tbody>\n",
       "</table>\n",
       "</div>"
      ],
      "text/plain": [
       "     p\n",
       "x y   \n",
       "0 0  2\n",
       "  1  1\n",
       "1 0  1\n",
       "  1  2"
      ]
     },
     "execution_count": 39,
     "metadata": {},
     "output_type": "execute_result"
    }
   ],
   "source": [
    "df.groupby(['x', 'y']).count()[['p']]"
   ]
  },
  {
   "cell_type": "code",
   "execution_count": 38,
   "metadata": {},
   "outputs": [
    {
     "data": {
      "text/html": [
       "<div>\n",
       "<style scoped>\n",
       "    .dataframe tbody tr th:only-of-type {\n",
       "        vertical-align: middle;\n",
       "    }\n",
       "\n",
       "    .dataframe tbody tr th {\n",
       "        vertical-align: top;\n",
       "    }\n",
       "\n",
       "    .dataframe thead th {\n",
       "        text-align: right;\n",
       "    }\n",
       "</style>\n",
       "<table border=\"1\" class=\"dataframe\">\n",
       "  <thead>\n",
       "    <tr style=\"text-align: right;\">\n",
       "      <th></th>\n",
       "      <th>p</th>\n",
       "    </tr>\n",
       "    <tr>\n",
       "      <th>y</th>\n",
       "      <th></th>\n",
       "    </tr>\n",
       "  </thead>\n",
       "  <tbody>\n",
       "    <tr>\n",
       "      <th>0</th>\n",
       "      <td>3</td>\n",
       "    </tr>\n",
       "    <tr>\n",
       "      <th>1</th>\n",
       "      <td>3</td>\n",
       "    </tr>\n",
       "  </tbody>\n",
       "</table>\n",
       "</div>"
      ],
      "text/plain": [
       "   p\n",
       "y   \n",
       "0  3\n",
       "1  3"
      ]
     },
     "execution_count": 38,
     "metadata": {},
     "output_type": "execute_result"
    }
   ],
   "source": [
    "df.groupby('y').count()[['p']]"
   ]
  },
  {
   "cell_type": "code",
   "execution_count": 42,
   "metadata": {},
   "outputs": [
    {
     "data": {
      "text/html": [
       "<div>\n",
       "<style scoped>\n",
       "    .dataframe tbody tr th:only-of-type {\n",
       "        vertical-align: middle;\n",
       "    }\n",
       "\n",
       "    .dataframe tbody tr th {\n",
       "        vertical-align: top;\n",
       "    }\n",
       "\n",
       "    .dataframe thead th {\n",
       "        text-align: right;\n",
       "    }\n",
       "</style>\n",
       "<table border=\"1\" class=\"dataframe\">\n",
       "  <thead>\n",
       "    <tr style=\"text-align: right;\">\n",
       "      <th></th>\n",
       "      <th></th>\n",
       "      <th></th>\n",
       "      <th>p</th>\n",
       "    </tr>\n",
       "    <tr>\n",
       "      <th>x</th>\n",
       "      <th>y</th>\n",
       "      <th>z</th>\n",
       "      <th></th>\n",
       "    </tr>\n",
       "  </thead>\n",
       "  <tbody>\n",
       "    <tr>\n",
       "      <th rowspan=\"3\" valign=\"top\">0</th>\n",
       "      <th rowspan=\"2\" valign=\"top\">0</th>\n",
       "      <th>0</th>\n",
       "      <td>0.111111</td>\n",
       "    </tr>\n",
       "    <tr>\n",
       "      <th>1</th>\n",
       "      <td>0.111111</td>\n",
       "    </tr>\n",
       "    <tr>\n",
       "      <th>1</th>\n",
       "      <th>1</th>\n",
       "      <td>0.111111</td>\n",
       "    </tr>\n",
       "    <tr>\n",
       "      <th rowspan=\"2\" valign=\"top\">1</th>\n",
       "      <th>0</th>\n",
       "      <th>1</th>\n",
       "      <td>0.111111</td>\n",
       "    </tr>\n",
       "    <tr>\n",
       "      <th>1</th>\n",
       "      <th>0</th>\n",
       "      <td>1.777778</td>\n",
       "    </tr>\n",
       "  </tbody>\n",
       "</table>\n",
       "</div>"
      ],
      "text/plain": [
       "              p\n",
       "x y z          \n",
       "0 0 0  0.111111\n",
       "    1  0.111111\n",
       "  1 1  0.111111\n",
       "1 0 1  0.111111\n",
       "  1 0  1.777778"
      ]
     },
     "execution_count": 42,
     "metadata": {},
     "output_type": "execute_result"
    }
   ],
   "source": [
    "(\n",
    "    blah - (\n",
    "        df.groupby(['x', 'y']).count()[['p']] / df.groupby(['y']).count()[['p']] \\\n",
    "        * df.groupby(['z', 'y']).count()[['p']] / df.groupby(['y']).count()[['p']] \\\n",
    "        * df.groupby(['y']).count()[['p']])\n",
    ") ** 2"
   ]
  },
  {
   "cell_type": "code",
   "execution_count": 45,
   "metadata": {},
   "outputs": [
    {
     "data": {
      "text/plain": [
       "p    3.333333\n",
       "dtype: float64"
      ]
     },
     "execution_count": 45,
     "metadata": {},
     "output_type": "execute_result"
    }
   ],
   "source": [
    "(\n",
    "(\n",
    "    blah - (\n",
    "        df.groupby(['x', 'y']).count()[['p']] / df.groupby(['y']).count()[['p']] \\\n",
    "        * df.groupby(['z', 'y']).count()[['p']] / df.groupby(['y']).count()[['p']] \\\n",
    "        * df.groupby(['y']).count()[['p']])\n",
    ") ** 2 / (\n",
    "        df.groupby(['x', 'y']).count()[['p']] / df.groupby(['y']).count()[['p']] \\\n",
    "        * df.groupby(['z', 'y']).count()[['p']] / df.groupby(['y']).count()[['p']] \\\n",
    "        * df.groupby(['y']).count()[['p']])\n",
    "\n",
    ").sum()\n"
   ]
  },
  {
   "cell_type": "code",
   "execution_count": 37,
   "metadata": {},
   "outputs": [
    {
     "data": {
      "text/html": [
       "<div>\n",
       "<style scoped>\n",
       "    .dataframe tbody tr th:only-of-type {\n",
       "        vertical-align: middle;\n",
       "    }\n",
       "\n",
       "    .dataframe tbody tr th {\n",
       "        vertical-align: top;\n",
       "    }\n",
       "\n",
       "    .dataframe thead th {\n",
       "        text-align: right;\n",
       "    }\n",
       "</style>\n",
       "<table border=\"1\" class=\"dataframe\">\n",
       "  <thead>\n",
       "    <tr style=\"text-align: right;\">\n",
       "      <th></th>\n",
       "      <th></th>\n",
       "      <th>p</th>\n",
       "    </tr>\n",
       "    <tr>\n",
       "      <th>x</th>\n",
       "      <th>y</th>\n",
       "      <th></th>\n",
       "    </tr>\n",
       "  </thead>\n",
       "  <tbody>\n",
       "    <tr>\n",
       "      <th rowspan=\"2\" valign=\"top\">0</th>\n",
       "      <th>0</th>\n",
       "      <td>0.666667</td>\n",
       "    </tr>\n",
       "    <tr>\n",
       "      <th>1</th>\n",
       "      <td>0.333333</td>\n",
       "    </tr>\n",
       "    <tr>\n",
       "      <th rowspan=\"2\" valign=\"top\">1</th>\n",
       "      <th>0</th>\n",
       "      <td>0.333333</td>\n",
       "    </tr>\n",
       "    <tr>\n",
       "      <th>1</th>\n",
       "      <td>0.666667</td>\n",
       "    </tr>\n",
       "  </tbody>\n",
       "</table>\n",
       "</div>"
      ],
      "text/plain": [
       "            p\n",
       "x y          \n",
       "0 0  0.666667\n",
       "  1  0.333333\n",
       "1 0  0.333333\n",
       "  1  0.666667"
      ]
     },
     "execution_count": 37,
     "metadata": {},
     "output_type": "execute_result"
    }
   ],
   "source": [
    "x_given_y_counts = df.groupby(['x', 'y']).count()[['p']] / df.groupby('y').count()[['p']]\n",
    "x_given_y_counts[['p']]"
   ]
  },
  {
   "cell_type": "code",
   "execution_count": 32,
   "metadata": {},
   "outputs": [
    {
     "data": {
      "text/html": [
       "<div>\n",
       "<style scoped>\n",
       "    .dataframe tbody tr th:only-of-type {\n",
       "        vertical-align: middle;\n",
       "    }\n",
       "\n",
       "    .dataframe tbody tr th {\n",
       "        vertical-align: top;\n",
       "    }\n",
       "\n",
       "    .dataframe thead th {\n",
       "        text-align: right;\n",
       "    }\n",
       "</style>\n",
       "<table border=\"1\" class=\"dataframe\">\n",
       "  <thead>\n",
       "    <tr style=\"text-align: right;\">\n",
       "      <th></th>\n",
       "      <th>p</th>\n",
       "    </tr>\n",
       "    <tr>\n",
       "      <th>x</th>\n",
       "      <th></th>\n",
       "    </tr>\n",
       "  </thead>\n",
       "  <tbody>\n",
       "    <tr>\n",
       "      <th>0</th>\n",
       "      <td>3</td>\n",
       "    </tr>\n",
       "    <tr>\n",
       "      <th>1</th>\n",
       "      <td>2</td>\n",
       "    </tr>\n",
       "  </tbody>\n",
       "</table>\n",
       "</div>"
      ],
      "text/plain": [
       "   p\n",
       "x   \n",
       "0  3\n",
       "1  2"
      ]
     },
     "execution_count": 32,
     "metadata": {},
     "output_type": "execute_result"
    }
   ],
   "source": [
    "blah.groupby('x').count()"
   ]
  },
  {
   "cell_type": "code",
   "execution_count": 30,
   "metadata": {},
   "outputs": [
    {
     "data": {
      "text/plain": [
       "FrozenList(['x', 'y', 'z'])"
      ]
     },
     "execution_count": 30,
     "metadata": {},
     "output_type": "execute_result"
    }
   ],
   "source": [
    "blah.index.names"
   ]
  },
  {
   "cell_type": "code",
   "execution_count": 28,
   "metadata": {},
   "outputs": [
    {
     "data": {
      "text/plain": [
       "1"
      ]
     },
     "execution_count": 28,
     "metadata": {},
     "output_type": "execute_result"
    }
   ],
   "source": [
    "blah.loc[blah.index[0], 'p']"
   ]
  },
  {
   "cell_type": "code",
   "execution_count": 31,
   "metadata": {},
   "outputs": [
    {
     "data": {
      "text/plain": [
       "1"
      ]
     },
     "execution_count": 31,
     "metadata": {},
     "output_type": "execute_result"
    }
   ],
   "source": [
    "blah.at[blah.index[0], 'p']"
   ]
  },
  {
   "cell_type": "code",
   "execution_count": null,
   "metadata": {},
   "outputs": [],
   "source": []
  },
  {
   "cell_type": "code",
   "execution_count": 94,
   "metadata": {},
   "outputs": [],
   "source": [
    "class ChiSquareTest():\n",
    "    def __init__(self, data, comparable_1, comparable_2, conditionals=[]):\n",
    "        self.tmp_col_name = 'chi-sq. tmp count'\n",
    "        self.data = data.copy()\n",
    "        self.data[self.tmp_col_name] = 0\n",
    "        self.num_rows = self.data.shape[0]\n",
    "        \n",
    "        self.comparable_1 = comparable_1\n",
    "        self.comparable_2 = comparable_2\n",
    "        self.conditionals = conditionals\n",
    "        \n",
    "        self.all_cols = [comparable_1, comparable_2]\n",
    "        self.comparable_1_and_conditionals = [comparable_1]\n",
    "        self.comparable_2_and_conditionals = [comparable_2]\n",
    "        \n",
    "        for conditional in conditionals:\n",
    "            self.all_cols.append(conditional)\n",
    "            self.comparable_1_and_conditionals.append(conditional)\n",
    "            self.comparable_2_and_conditionals.append(conditional)\n",
    "\n",
    "        self.joint_counts = self.data.groupby(self.all_cols).count()\n",
    "\n",
    "    \n",
    "    def statistic(self):\n",
    "        if len(self.conditionals) > 0:\n",
    "            # product of conditional counts of comparable_1 and comparable_2 and the \n",
    "            # marginal count of conditioning set\n",
    "            \n",
    "            proba_comparable_1_given_conditionals = \\\n",
    "                self.data.groupby(self.comparable_1_and_conditionals).count()[[self.tmp_col_name]] \\\n",
    "                / self.data.groupby(self.conditionals).count()[[self.tmp_col_name]]\n",
    "            \n",
    "            proba_comparable_2_given_conditionals = \\\n",
    "                self.data.groupby(self.comparable_2_and_conditionals).count()[[self.tmp_col_name]] \\\n",
    "                / self.data.groupby(self.conditionals).count()[[self.tmp_col_name]]\n",
    "            \n",
    "            self.prod = \\\n",
    "                self.num_rows * proba_comparable_1_given_conditionals \\\n",
    "                    * proba_comparable_2_given_conditionals \\\n",
    "                    * self.data.groupby(self.conditionals).count()[[self.tmp_col_name]] / self.num_rows\n",
    "        else:\n",
    "            # product of marginal counts of comparable_1 and comparable_2\n",
    "            \n",
    "            proba_comparable_1 = \\\n",
    "                self.data.groupby([self.comparable_1]).count()[[self.tmp_col_name]] \\\n",
    "                / self.num_rows\n",
    "            \n",
    "            proba_comparable_2 = \\\n",
    "                self.data.groupby([self.comparable_2]).count()[[self.tmp_col_name]] \\\n",
    "                / self.num_rows\n",
    "            \n",
    "            self.prod = \\\n",
    "                self.num_rows * proba_comparable_1 * proba_comparable_2\n",
    "        \n",
    "        self._statistic = (\n",
    "            (self.joint_counts - self.prod) ** 2 / self.prod\n",
    "        ).sum()[self.tmp_col_name]\n",
    "        \n",
    "        \n",
    "        \n",
    "        return self._statistic\n",
    "        \n",
    "    "
   ]
  },
  {
   "cell_type": "code",
   "execution_count": 95,
   "metadata": {},
   "outputs": [
    {
     "data": {
      "text/plain": [
       "2.5"
      ]
     },
     "execution_count": 95,
     "metadata": {},
     "output_type": "execute_result"
    }
   ],
   "source": [
    "test = ChiSquareTest(data=blah, comparable_1='x', comparable_2='y', conditionals=['z'])\n",
    "test.statistic()"
   ]
  },
  {
   "cell_type": "code",
   "execution_count": 96,
   "metadata": {},
   "outputs": [
    {
     "data": {
      "text/plain": [
       "66.14403113186242"
      ]
     },
     "execution_count": 96,
     "metadata": {},
     "output_type": "execute_result"
    }
   ],
   "source": [
    "indep_df = pd.DataFrame({'x': np.random.binomial(n=1, p=0.6, size=1000), 'y': np.random.binomial(n=1, p=0.6, size=1000) })\n",
    "\n",
    "test_indep_df = ChiSquareTest(data=indep_df, comparable_1='x', comparable_2='y')\n",
    "test_indep_df.statistic()"
   ]
  },
  {
   "cell_type": "code",
   "execution_count": 97,
   "metadata": {},
   "outputs": [
    {
     "data": {
      "text/html": [
       "<div>\n",
       "<style scoped>\n",
       "    .dataframe tbody tr th:only-of-type {\n",
       "        vertical-align: middle;\n",
       "    }\n",
       "\n",
       "    .dataframe tbody tr th {\n",
       "        vertical-align: top;\n",
       "    }\n",
       "\n",
       "    .dataframe thead th {\n",
       "        text-align: right;\n",
       "    }\n",
       "</style>\n",
       "<table border=\"1\" class=\"dataframe\">\n",
       "  <thead>\n",
       "    <tr style=\"text-align: right;\">\n",
       "      <th></th>\n",
       "      <th>x</th>\n",
       "      <th>y</th>\n",
       "    </tr>\n",
       "  </thead>\n",
       "  <tbody>\n",
       "    <tr>\n",
       "      <th>0</th>\n",
       "      <td>1</td>\n",
       "      <td>1</td>\n",
       "    </tr>\n",
       "    <tr>\n",
       "      <th>1</th>\n",
       "      <td>1</td>\n",
       "      <td>0</td>\n",
       "    </tr>\n",
       "    <tr>\n",
       "      <th>2</th>\n",
       "      <td>1</td>\n",
       "      <td>1</td>\n",
       "    </tr>\n",
       "    <tr>\n",
       "      <th>3</th>\n",
       "      <td>1</td>\n",
       "      <td>1</td>\n",
       "    </tr>\n",
       "    <tr>\n",
       "      <th>4</th>\n",
       "      <td>0</td>\n",
       "      <td>1</td>\n",
       "    </tr>\n",
       "    <tr>\n",
       "      <th>...</th>\n",
       "      <td>...</td>\n",
       "      <td>...</td>\n",
       "    </tr>\n",
       "    <tr>\n",
       "      <th>995</th>\n",
       "      <td>1</td>\n",
       "      <td>1</td>\n",
       "    </tr>\n",
       "    <tr>\n",
       "      <th>996</th>\n",
       "      <td>1</td>\n",
       "      <td>1</td>\n",
       "    </tr>\n",
       "    <tr>\n",
       "      <th>997</th>\n",
       "      <td>1</td>\n",
       "      <td>0</td>\n",
       "    </tr>\n",
       "    <tr>\n",
       "      <th>998</th>\n",
       "      <td>1</td>\n",
       "      <td>0</td>\n",
       "    </tr>\n",
       "    <tr>\n",
       "      <th>999</th>\n",
       "      <td>1</td>\n",
       "      <td>1</td>\n",
       "    </tr>\n",
       "  </tbody>\n",
       "</table>\n",
       "<p>1000 rows × 2 columns</p>\n",
       "</div>"
      ],
      "text/plain": [
       "     x  y\n",
       "0    1  1\n",
       "1    1  0\n",
       "2    1  1\n",
       "3    1  1\n",
       "4    0  1\n",
       "..  .. ..\n",
       "995  1  1\n",
       "996  1  1\n",
       "997  1  0\n",
       "998  1  0\n",
       "999  1  1\n",
       "\n",
       "[1000 rows x 2 columns]"
      ]
     },
     "execution_count": 97,
     "metadata": {},
     "output_type": "execute_result"
    }
   ],
   "source": [
    "indep_df"
   ]
  },
  {
   "cell_type": "code",
   "execution_count": 98,
   "metadata": {},
   "outputs": [],
   "source": [
    "def logistic(x):\n",
    "    return 1 / (1 + np.exp(-x))"
   ]
  },
  {
   "cell_type": "code",
   "execution_count": 99,
   "metadata": {},
   "outputs": [
    {
     "data": {
      "text/plain": [
       "161.49636524912356"
      ]
     },
     "execution_count": 99,
     "metadata": {},
     "output_type": "execute_result"
    }
   ],
   "source": [
    "x = np.random.binomial(n=1, p=0.6, size=1000)\n",
    "y = np.random.binomial(n=1, p=0.6, size=1000) \n",
    "\n",
    "not_indep_df = pd.DataFrame({'x': x, 'y': np.random.binomial(n=1, p=logistic(x + np.random.normal(size=1000))) })\n",
    "\n",
    "test_not_indep_df = ChiSquareTest(data=not_indep_df, comparable_1='x', comparable_2='y')\n",
    "test_not_indep_df.statistic()"
   ]
  },
  {
   "cell_type": "code",
   "execution_count": null,
   "metadata": {},
   "outputs": [],
   "source": []
  },
  {
   "cell_type": "code",
   "execution_count": 5,
   "metadata": {},
   "outputs": [],
   "source": [
    "size=10000\n",
    "# X  -> Y -> Z\n",
    "x = np.random.normal(size=size)\n",
    "y = x + np.random.normal(size=size) \n",
    "z = y + np.random.normal(size=size)\n",
    "df_2 = pd.DataFrame({'x': x, 'y': y, 'z': z})"
   ]
  },
  {
   "cell_type": "code",
   "execution_count": 6,
   "metadata": {},
   "outputs": [],
   "source": [
    "import time\n"
   ]
  },
  {
   "cell_type": "code",
   "execution_count": 7,
   "metadata": {},
   "outputs": [],
   "source": [
    "def time_elapsed(func):\n",
    "    start_time = time.time()\n",
    "\n",
    "    returnable = func()\n",
    "    \n",
    "    elapsed = time.strftime(\"%H:%M:%S\", time.gmtime(time.time() - start_time))\n",
    "    print(f\"Took: {elapsed}\")\n",
    "    \n",
    "    return returnable"
   ]
  },
  {
   "cell_type": "code",
   "execution_count": 8,
   "metadata": {},
   "outputs": [],
   "source": [
    "tester = ConditionalIndependenceTester(\n",
    "    data=df_2, \n",
    "    comparables_1=['x'],\n",
    "    comparables_2=['z'],\n",
    "    conditioning_set=['y']\n",
    ")"
   ]
  },
  {
   "cell_type": "code",
   "execution_count": 9,
   "metadata": {},
   "outputs": [
    {
     "name": "stdout",
     "output_type": "stream",
     "text": [
      "Took: 00:00:19\n"
     ]
    },
    {
     "data": {
      "text/plain": [
       "True"
      ]
     },
     "execution_count": 9,
     "metadata": {},
     "output_type": "execute_result"
    }
   ],
   "source": [
    "time_elapsed(lambda: tester.is_independent(classifier=KNeighborsClassifier))\n"
   ]
  },
  {
   "cell_type": "code",
   "execution_count": 1296,
   "metadata": {},
   "outputs": [
    {
     "data": {
      "text/plain": [
       "0.56"
      ]
     },
     "execution_count": 1296,
     "metadata": {},
     "output_type": "execute_result"
    }
   ],
   "source": [
    "tester.independence_ratio"
   ]
  },
  {
   "cell_type": "code",
   "execution_count": 1297,
   "metadata": {},
   "outputs": [],
   "source": [
    "tester = ConditionalIndependenceTester(\n",
    "    data=df_2, \n",
    "    comparables_1=['x'],\n",
    "    comparables_2=['z'],\n",
    "    conditioning_set=[]\n",
    ")"
   ]
  },
  {
   "cell_type": "code",
   "execution_count": 1300,
   "metadata": {},
   "outputs": [
    {
     "name": "stdout",
     "output_type": "stream",
     "text": [
      "Took: 00:00:18\n"
     ]
    },
    {
     "data": {
      "text/plain": [
       "False"
      ]
     },
     "execution_count": 1300,
     "metadata": {},
     "output_type": "execute_result"
    }
   ],
   "source": [
    "time_elapsed(lambda: tester.is_independent(classifier=KNeighborsClassifier))\n"
   ]
  },
  {
   "cell_type": "code",
   "execution_count": 1299,
   "metadata": {},
   "outputs": [
    {
     "data": {
      "text/plain": [
       "0.0"
      ]
     },
     "execution_count": 1299,
     "metadata": {},
     "output_type": "execute_result"
    }
   ],
   "source": [
    "tester.independence_ratio"
   ]
  },
  {
   "cell_type": "code",
   "execution_count": 1076,
   "metadata": {},
   "outputs": [
    {
     "name": "stdout",
     "output_type": "stream",
     "text": [
      "Took: 00:00:01\n"
     ]
    },
    {
     "data": {
      "text/plain": [
       "False"
      ]
     },
     "execution_count": 1076,
     "metadata": {},
     "output_type": "execute_result"
    }
   ],
   "source": [
    "time_elapsed(lambda: tester.is_independent(classifier=RandomForestClassifier))\n"
   ]
  },
  {
   "cell_type": "code",
   "execution_count": 1079,
   "metadata": {},
   "outputs": [
    {
     "data": {
      "text/plain": [
       "0.5454545454545454"
      ]
     },
     "execution_count": 1079,
     "metadata": {},
     "output_type": "execute_result"
    }
   ],
   "source": [
    "tester.score"
   ]
  },
  {
   "cell_type": "code",
   "execution_count": 1080,
   "metadata": {},
   "outputs": [
    {
     "data": {
      "text/plain": [
       "0.5097509750975098"
      ]
     },
     "execution_count": 1080,
     "metadata": {},
     "output_type": "execute_result"
    }
   ],
   "source": [
    "tester.null_score"
   ]
  },
  {
   "cell_type": "code",
   "execution_count": 1081,
   "metadata": {},
   "outputs": [
    {
     "data": {
      "text/plain": [
       "False"
      ]
     },
     "execution_count": 1081,
     "metadata": {},
     "output_type": "execute_result"
    }
   ],
   "source": [
    "tester = ConditionalIndependenceTester(\n",
    "    data=df_2, \n",
    "    comparables_1=['x'],\n",
    "    comparables_2=['z'],\n",
    "    conditioning_set=[]\n",
    ")\n",
    "\n",
    "tester.is_independent()"
   ]
  },
  {
   "cell_type": "code",
   "execution_count": 1082,
   "metadata": {},
   "outputs": [
    {
     "data": {
      "text/plain": [
       "0.5844584458445845"
      ]
     },
     "execution_count": 1082,
     "metadata": {},
     "output_type": "execute_result"
    }
   ],
   "source": [
    "tester.score"
   ]
  },
  {
   "cell_type": "code",
   "execution_count": null,
   "metadata": {},
   "outputs": [],
   "source": []
  },
  {
   "cell_type": "code",
   "execution_count": 1088,
   "metadata": {},
   "outputs": [
    {
     "name": "stdout",
     "output_type": "stream",
     "text": [
      "False 0.6792679267926792 0.49204920492049203\n"
     ]
    }
   ],
   "source": [
    "tester = ConditionalIndependenceTester(\n",
    "    data=df_2, \n",
    "    comparables_1=['y'],\n",
    "    comparables_2=['z'],\n",
    "    conditioning_set=[]\n",
    ")\n",
    "print(tester.is_independent(), tester.score, tester.null_score)"
   ]
  },
  {
   "cell_type": "code",
   "execution_count": 1090,
   "metadata": {},
   "outputs": [
    {
     "name": "stdout",
     "output_type": "stream",
     "text": [
      "False 0.6885688568856886 0.6057605760576058\n"
     ]
    }
   ],
   "source": [
    "tester = ConditionalIndependenceTester(\n",
    "    data=df_2, \n",
    "    comparables_1=['y'],\n",
    "    comparables_2=['z'],\n",
    "    conditioning_set=['x']\n",
    ")\n",
    "print(tester.is_independent(), tester.score, tester.null_score)"
   ]
  },
  {
   "cell_type": "code",
   "execution_count": 1091,
   "metadata": {},
   "outputs": [],
   "source": [
    "size=10000\n",
    "# X -> Z <- Y\n",
    "x = np.random.normal(size=size)\n",
    "y = np.random.normal(size=size) \n",
    "z = x + y + np.random.normal(size=size)\n",
    "df_3 = pd.DataFrame({'x': x, 'y': y, 'z': z})"
   ]
  },
  {
   "cell_type": "code",
   "execution_count": 1092,
   "metadata": {},
   "outputs": [
    {
     "name": "stdout",
     "output_type": "stream",
     "text": [
      "True 0.49894989498949893 0.5031503150315032\n"
     ]
    }
   ],
   "source": [
    "tester = ConditionalIndependenceTester(\n",
    "    data=df_3, \n",
    "    comparables_1=['x'],\n",
    "    comparables_2=['y'],\n",
    "    conditioning_set=[]\n",
    ")\n",
    "print(tester.is_independent(), tester.score, tester.null_score)"
   ]
  },
  {
   "cell_type": "code",
   "execution_count": 1093,
   "metadata": {},
   "outputs": [
    {
     "name": "stdout",
     "output_type": "stream",
     "text": [
      "False 0.6186618661866187 0.6054605460546054\n"
     ]
    }
   ],
   "source": [
    "tester = ConditionalIndependenceTester(\n",
    "    data=df_3, \n",
    "    comparables_1=['x'],\n",
    "    comparables_2=['y'],\n",
    "    conditioning_set=['z']\n",
    ")\n",
    "print(tester.is_independent(), tester.score, tester.null_score)"
   ]
  },
  {
   "cell_type": "code",
   "execution_count": 1094,
   "metadata": {},
   "outputs": [
    {
     "name": "stdout",
     "output_type": "stream",
     "text": [
      "False 0.5979597959795979 0.5082508250825083\n"
     ]
    }
   ],
   "source": [
    "tester = ConditionalIndependenceTester(\n",
    "    data=df_3, \n",
    "    comparables_1=['x'],\n",
    "    comparables_2=['z'],\n",
    "    conditioning_set=[]\n",
    ")\n",
    "tester.is_independent()\n",
    "print(tester.is_independent(), tester.score, tester.null_score)"
   ]
  },
  {
   "cell_type": "code",
   "execution_count": 1096,
   "metadata": {},
   "outputs": [
    {
     "name": "stdout",
     "output_type": "stream",
     "text": [
      "False 0.6072607260726073 0.49294929492949296\n"
     ]
    }
   ],
   "source": [
    "tester = ConditionalIndependenceTester(\n",
    "    data=df_3, \n",
    "    comparables_1=['y'],\n",
    "    comparables_2=['z'],\n",
    "    conditioning_set=[]\n",
    ")\n",
    "tester.is_independent()\n",
    "print(tester.is_independent(), tester.score, tester.null_score)"
   ]
  },
  {
   "cell_type": "code",
   "execution_count": 603,
   "metadata": {},
   "outputs": [],
   "source": [
    "size=10000\n",
    "# X <- Z -> Y\n",
    "z = np.random.normal(size=size)\n",
    "x = z + np.random.normal(size=size) \n",
    "y = z + np.random.normal(size=size)\n",
    "df_4 = pd.DataFrame({'x': x, 'y': y, 'z': z})"
   ]
  },
  {
   "cell_type": "code",
   "execution_count": 1097,
   "metadata": {},
   "outputs": [
    {
     "name": "stdout",
     "output_type": "stream",
     "text": [
      "False 0.5760576057605761 0.5013501350135013\n"
     ]
    }
   ],
   "source": [
    "tester = ConditionalIndependenceTester(\n",
    "    data=df_4, \n",
    "    comparables_1=['x'],\n",
    "    comparables_2=['y'],\n",
    "    conditioning_set=[]\n",
    ")\n",
    "print(tester.is_independent(), tester.score, tester.null_score)"
   ]
  },
  {
   "cell_type": "code",
   "execution_count": 1098,
   "metadata": {},
   "outputs": [
    {
     "name": "stdout",
     "output_type": "stream",
     "text": [
      "True 0.6381638163816382 0.6483648364836484\n"
     ]
    }
   ],
   "source": [
    "tester = ConditionalIndependenceTester(\n",
    "    data=df_4, \n",
    "    comparables_1=['x'],\n",
    "    comparables_2=['y'],\n",
    "    conditioning_set=['z']\n",
    ")\n",
    "print(tester.is_independent(), tester.score, tester.null_score)"
   ]
  },
  {
   "cell_type": "code",
   "execution_count": 1099,
   "metadata": {},
   "outputs": [
    {
     "name": "stdout",
     "output_type": "stream",
     "text": [
      "False 0.6387638763876388 0.48544854485448546\n"
     ]
    }
   ],
   "source": [
    "tester = ConditionalIndependenceTester(\n",
    "    data=df_4, \n",
    "    comparables_1=['y'],\n",
    "    comparables_2=['z'],\n",
    "    conditioning_set=[]\n",
    ")\n",
    "tester.is_independent()\n",
    "print(tester.is_independent(), tester.score, tester.null_score)"
   ]
  },
  {
   "cell_type": "markdown",
   "metadata": {},
   "source": [
    "$P(x,y,z) = P(x)P(y|x)P(z|y)$\n",
    "\n",
    "$P^*(x,y,z) = P^*(x|y)P^*(z|y)P^*(y)$"
   ]
  },
  {
   "cell_type": "code",
   "execution_count": 225,
   "metadata": {},
   "outputs": [],
   "source": [
    "def percent_independent(results):\n",
    "    \"\"\"\n",
    "        @param results [List[Boolean]] True if independent, False if dependent\n",
    "        \n",
    "        @return percent of true count / results count\n",
    "    \"\"\"\n",
    "    \n",
    "    return results.sum() / len(results)"
   ]
  },
  {
   "cell_type": "code",
   "execution_count": 23,
   "metadata": {},
   "outputs": [],
   "source": [
    "def test_a_bunch(func, num_times=1000, size=1000):\n",
    "    results = []\n",
    "    \n",
    "    for i in range(num_times):\n",
    "        results.append(func(size))\n",
    "    \n",
    "    return np.array(results)"
   ]
  },
  {
   "cell_type": "code",
   "execution_count": 24,
   "metadata": {},
   "outputs": [],
   "source": [
    "def dependent_two_vars(size=1000):\n",
    "    x = np.random.normal(size=size)\n",
    "    u = np.random.normal(size=size)\n",
    "    y = x + u\n",
    "    uncond_indep_df = pd.DataFrame({'x': x, 'y': y})\n",
    "\n",
    "    tester = ConditionalIndependenceTester(data=uncond_indep_df, comparables_1=['x'], comparables_2=['y'])\n",
    "    return tester.is_independent()"
   ]
  },
  {
   "cell_type": "code",
   "execution_count": 25,
   "metadata": {},
   "outputs": [],
   "source": [
    "def independent_two_vars(size=1000):\n",
    "    x = np.random.normal(size=size)\n",
    "    y = np.random.normal(size=size)\n",
    "    df = pd.DataFrame({'x': x, 'y': y})\n",
    "\n",
    "    tester = ConditionalIndependenceTester(data=df, comparables_1=['x'], comparables_2=['y'])\n",
    "    return tester.is_independent()"
   ]
  },
  {
   "cell_type": "markdown",
   "metadata": {},
   "source": [
    "Test cases:\n",
    "\n",
    "\n",
    "\n",
    "* $X \\perp Y | Z$\n",
    "    - fork\n",
    "    - chain\n",
    "    \n",
    "* $X \\not\\perp Y | Z$\n",
    "    - collider case\n",
    "    - fork with unobserved confounding\n",
    "    - chain with unobserved confounding\n",
    "\n",
    "* Variable type\n",
    "    - Discrete variables\n",
    "    - Continuous variables\n",
    "    - Mix of Discrete and Continuous variables\n",
    "\n",
    "* Positivity\n"
   ]
  },
  {
   "cell_type": "code",
   "execution_count": null,
   "metadata": {},
   "outputs": [],
   "source": [
    "percent_independent(test_a_bunch(func=dependent_two_vars, size=10000))"
   ]
  },
  {
   "cell_type": "code",
   "execution_count": 321,
   "metadata": {},
   "outputs": [
    {
     "data": {
      "text/plain": [
       "1.0"
      ]
     },
     "execution_count": 321,
     "metadata": {},
     "output_type": "execute_result"
    }
   ],
   "source": [
    "percent_independent(test_a_bunch(func=independent_two_vars, size=10000))"
   ]
  },
  {
   "cell_type": "code",
   "execution_count": 315,
   "metadata": {},
   "outputs": [
    {
     "data": {
      "text/plain": [
       "0.034"
      ]
     },
     "execution_count": 315,
     "metadata": {},
     "output_type": "execute_result"
    }
   ],
   "source": [
    "percent_independent(test_a_bunch(func=dependent_two_vars, size=1000))"
   ]
  },
  {
   "cell_type": "code",
   "execution_count": 316,
   "metadata": {},
   "outputs": [
    {
     "data": {
      "text/plain": [
       "0.917"
      ]
     },
     "execution_count": 316,
     "metadata": {},
     "output_type": "execute_result"
    }
   ],
   "source": [
    "percent_independent(test_a_bunch(func=independent_two_vars, size=1000))"
   ]
  },
  {
   "cell_type": "code",
   "execution_count": 318,
   "metadata": {},
   "outputs": [
    {
     "data": {
      "text/plain": [
       "0.415"
      ]
     },
     "execution_count": 318,
     "metadata": {},
     "output_type": "execute_result"
    }
   ],
   "source": [
    "percent_independent(test_a_bunch(func=dependent_two_vars, size=100))"
   ]
  },
  {
   "cell_type": "code",
   "execution_count": 319,
   "metadata": {},
   "outputs": [
    {
     "data": {
      "text/plain": [
       "0.659"
      ]
     },
     "execution_count": 319,
     "metadata": {},
     "output_type": "execute_result"
    }
   ],
   "source": [
    "percent_independent(test_a_bunch(func=independent_two_vars, size=100))"
   ]
  },
  {
   "cell_type": "code",
   "execution_count": 294,
   "metadata": {},
   "outputs": [
    {
     "data": {
      "text/plain": [
       "0"
      ]
     },
     "execution_count": 294,
     "metadata": {},
     "output_type": "execute_result"
    }
   ],
   "source": [
    "dep_two_vars_results.sum()"
   ]
  },
  {
   "cell_type": "code",
   "execution_count": 249,
   "metadata": {},
   "outputs": [],
   "source": []
  },
  {
   "cell_type": "code",
   "execution_count": 250,
   "metadata": {},
   "outputs": [],
   "source": [
    "continuous_var_names = ['continuous']\n",
    "multi_choice_categorical_var_names = ['cat_2']\n",
    "single_choice_categorical_var_names = ['cat_1']"
   ]
  },
  {
   "cell_type": "code",
   "execution_count": 252,
   "metadata": {},
   "outputs": [
    {
     "data": {
      "text/html": [
       "<div>\n",
       "<style scoped>\n",
       "    .dataframe tbody tr th:only-of-type {\n",
       "        vertical-align: middle;\n",
       "    }\n",
       "\n",
       "    .dataframe tbody tr th {\n",
       "        vertical-align: top;\n",
       "    }\n",
       "\n",
       "    .dataframe thead th {\n",
       "        text-align: right;\n",
       "    }\n",
       "</style>\n",
       "<table border=\"1\" class=\"dataframe\">\n",
       "  <thead>\n",
       "    <tr style=\"text-align: right;\">\n",
       "      <th></th>\n",
       "      <th>cat_1 | blue</th>\n",
       "      <th>cat_1 | red</th>\n",
       "      <th>cat_1 | white</th>\n",
       "      <th>cat_2 | a</th>\n",
       "      <th>cat_2 | b</th>\n",
       "      <th>cat_2 | c</th>\n",
       "      <th>continuous</th>\n",
       "    </tr>\n",
       "  </thead>\n",
       "  <tbody>\n",
       "    <tr>\n",
       "      <th>0</th>\n",
       "      <td>0.000</td>\n",
       "      <td>0.707</td>\n",
       "      <td>0.000</td>\n",
       "      <td>0.57735</td>\n",
       "      <td>0.00000</td>\n",
       "      <td>0.00000</td>\n",
       "      <td>0.935169</td>\n",
       "    </tr>\n",
       "    <tr>\n",
       "      <th>1</th>\n",
       "      <td>0.000</td>\n",
       "      <td>0.000</td>\n",
       "      <td>0.707</td>\n",
       "      <td>0.00000</td>\n",
       "      <td>0.57735</td>\n",
       "      <td>0.00000</td>\n",
       "      <td>0.000000</td>\n",
       "    </tr>\n",
       "    <tr>\n",
       "      <th>2</th>\n",
       "      <td>0.707</td>\n",
       "      <td>0.000</td>\n",
       "      <td>0.000</td>\n",
       "      <td>0.57735</td>\n",
       "      <td>0.57735</td>\n",
       "      <td>0.57735</td>\n",
       "      <td>1.000000</td>\n",
       "    </tr>\n",
       "  </tbody>\n",
       "</table>\n",
       "</div>"
      ],
      "text/plain": [
       "   cat_1 | blue  cat_1 | red  cat_1 | white  cat_2 | a  cat_2 | b  cat_2 | c  \\\n",
       "0         0.000        0.707          0.000    0.57735    0.00000    0.00000   \n",
       "1         0.000        0.000          0.707    0.00000    0.57735    0.00000   \n",
       "2         0.707        0.000          0.000    0.57735    0.57735    0.57735   \n",
       "\n",
       "   continuous  \n",
       "0    0.935169  \n",
       "1    0.000000  \n",
       "2    1.000000  "
      ]
     },
     "execution_count": 252,
     "metadata": {},
     "output_type": "execute_result"
    }
   ],
   "source": [
    "preprocessor = EuclideanDistanceDataPreprocessor(\n",
    "    continuous_var_names=continuous_var_names,\n",
    "    data=sample_df,\n",
    "    multi_choice_categorical_var_names=multi_choice_categorical_var_names,\n",
    "    single_choice_categorical_var_names=single_choice_categorical_var_names\n",
    ")\n",
    "\n",
    "preprocessed = preprocessor.preprocess()\n",
    "preprocessed"
   ]
  },
  {
   "cell_type": "code",
   "execution_count": 849,
   "metadata": {},
   "outputs": [],
   "source": [
    "class Helpers():\n",
    "    def get_column_names(data, vars_to_match, missingness_indicator_prefix='R_'):\n",
    "        \"\"\"\n",
    "            @param data [pandas.DataFrame] Contains data. Each column is a \n",
    "            variable. Each column name must match one and only of the var_names.\n",
    "                e.g. if var_names is [\"Race\", \"Weight\"], then a valid set of \n",
    "                     columns for data are: [\"Race | Black\", \"Weight\"].\n",
    "\n",
    "            @param vars_to_match [List[String]] Columns to match\n",
    "                e.g. [\"Race\", \"Weight\"]\n",
    "                \n",
    "            @return [List[String]] with corresponding column names.\n",
    "        \"\"\"\n",
    "        columns_accum = np.zeros(\n",
    "            shape=data.shape[1], \n",
    "            dtype='bool'\n",
    "        )\n",
    "        \n",
    "        for matchable in vars_to_match:\n",
    "            columns_accum += \\\n",
    "                data.columns.str.contains(matchable) \\\n",
    "                & (~data.columns.str.contains(missingness_indicator_prefix + matchable))\n",
    "            \n",
    "        return data.columns[columns_accum]"
   ]
  },
  {
   "cell_type": "code",
   "execution_count": 847,
   "metadata": {},
   "outputs": [
    {
     "data": {
      "text/plain": [
       "0    False\n",
       "1     True\n",
       "dtype: bool"
      ]
     },
     "execution_count": 847,
     "metadata": {},
     "output_type": "execute_result"
    }
   ],
   "source": [
    "pd.Series(['abc', 'R_a']).str.match('R_')"
   ]
  },
  {
   "cell_type": "code",
   "execution_count": 1231,
   "metadata": {},
   "outputs": [],
   "source": [
    "class SkeletonFinder():\n",
    "    \"\"\"\n",
    "        @param var_names [List[String]] The names of variables that\n",
    "        will be in the Skeleton.\n",
    "            e.g. [\"Race\", \"Weight\"]\n",
    "        \n",
    "        @param data [pandas.DataFrame] Contains data. Each column is a \n",
    "        variable. Each column name must match one and only of the var_names.\n",
    "            e.g. if var_names is [\"Race\", \"Weight\"], then a valid set of \n",
    "                 columns for data are: [\"Race | Black\", \"Weight\"].\n",
    "                 \n",
    "        @param missingness_indicator_prefix [String] Any prefix that matches this will \n",
    "        be considered as a missingness indicator. A missing indicator is 1 \n",
    "        if the relevant variable is missing (i.e. NaN), otherwise it is 0.\n",
    "    \"\"\"\n",
    "    def __init__(self, var_names, data, missingness_indicator_prefix='R_'):\n",
    "        self.var_names = var_names\n",
    "        self.data = data\n",
    "        self.missingness_indicator_prefix = missingness_indicator_prefix\n",
    "        \n",
    "    def find(self):\n",
    "        \"\"\" \n",
    "            Go through each pair of variables (in var_names).\n",
    "            For each pair, find a conditioning set that renders the two variables\n",
    "            independent.\n",
    "        \"\"\"\n",
    "        undirected_edges = []\n",
    "        \n",
    "        for var_name_1, var_name_2 in combinations(self.var_names, 2):\n",
    "            indep = self._is_independent(\n",
    "                var_name_1=var_name_1,\n",
    "                var_name_2=var_name_2\n",
    "            )\n",
    "\n",
    "            if not indep:\n",
    "                undirected_edges.append(\n",
    "                    \"{}-{}\".format(var_name_1, var_name_2)\n",
    "                )\n",
    "                    \n",
    "        return undirected_edges\n",
    "                \n",
    "\n",
    "    def _is_independent(self, var_name_1, var_name_2):\n",
    "        \"\"\"\n",
    "            Goes through possible conditioning sets, including the empty set.         \n",
    "        \"\"\"\n",
    "                        \n",
    "        var_1_col_names = Helpers.get_column_names(\n",
    "            data=self.data,\n",
    "            vars_to_match=[var_name_1],\n",
    "            missingness_indicator_prefix=self.missingness_indicator_prefix\n",
    "        )\n",
    "\n",
    "        var_2_col_names = Helpers.get_column_names(\n",
    "            data=self.data,\n",
    "            vars_to_match=[var_name_2],\n",
    "            missingness_indicator_prefix=self.missingness_indicator_prefix\n",
    "        )\n",
    "        \n",
    "        # What about the case where the number of variables is 2?\n",
    "        \n",
    "        for cond_set_length in np.arange(len(self.var_names) - 1):\n",
    "            cond_set_combos = combinations(\n",
    "                list(\n",
    "                    set(self.var_names) - set([var_name_1, var_name_2])\n",
    "                ), \n",
    "                cond_set_length\n",
    "            ) \n",
    "            \n",
    "            \n",
    "            for cond_set_combo in cond_set_combos:\n",
    "                conditioning_set_col_names = Helpers.get_column_names(\n",
    "                    data=self.data,\n",
    "                    vars_to_match=list(cond_set_combo)\n",
    "                )\n",
    "                \n",
    "                print('var_1_col_names', var_1_col_names)\n",
    "                print('var_2_col_names', var_2_col_names)\n",
    "                print('conditioning_set_col_names', conditioning_set_col_names)\n",
    "\n",
    "                tester = ConditionalIndependenceTester(\n",
    "                    data=self.data,\n",
    "                    comparables_1=var_1_col_names,\n",
    "                    comparables_2=var_2_col_names,\n",
    "                    conditioning_set=conditioning_set_col_names,\n",
    "                )\n",
    "\n",
    "                tester.calculate_p_value(classifier=KNeighborsClassifier)\n",
    "                \n",
    "                if tester.p_value > 0.05:\n",
    "                    print(\"Found independence. p_value: {}\".format(tester.p_value))\n",
    "                    return True\n",
    "        print(\"Did not find Independence. p_value: {}\".format(tester.p_value))\n",
    "        return False       "
   ]
  },
  {
   "cell_type": "code",
   "execution_count": 1264,
   "metadata": {},
   "outputs": [
    {
     "name": "stdout",
     "output_type": "stream",
     "text": [
      "var_1_col_names Index(['x'], dtype='object')\n",
      "var_2_col_names Index(['y'], dtype='object')\n",
      "conditioning_set_col_names Index([], dtype='object')\n",
      "var_1_col_names Index(['x'], dtype='object')\n",
      "var_2_col_names Index(['y'], dtype='object')\n",
      "conditioning_set_col_names Index(['z'], dtype='object')\n",
      "Found independence. p_value: 0.91\n",
      "var_1_col_names Index(['x'], dtype='object')\n",
      "var_2_col_names Index(['z'], dtype='object')\n",
      "conditioning_set_col_names Index([], dtype='object')\n",
      "var_1_col_names Index(['x'], dtype='object')\n",
      "var_2_col_names Index(['z'], dtype='object')\n",
      "conditioning_set_col_names Index(['y'], dtype='object')\n",
      "Did not find Independence. p_value: 0.0\n",
      "var_1_col_names Index(['y'], dtype='object')\n",
      "var_2_col_names Index(['z'], dtype='object')\n",
      "conditioning_set_col_names Index([], dtype='object')\n",
      "var_1_col_names Index(['y'], dtype='object')\n",
      "var_2_col_names Index(['z'], dtype='object')\n",
      "conditioning_set_col_names Index(['x'], dtype='object')\n",
      "Did not find Independence. p_value: 0.0\n"
     ]
    }
   ],
   "source": [
    "\n",
    "\n",
    "skeleton_finder = SkeletonFinder(var_names=['x', 'y', 'z'], data=df_4)\n",
    "skeleton = skeleton_finder.find()"
   ]
  },
  {
   "cell_type": "code",
   "execution_count": 1265,
   "metadata": {},
   "outputs": [
    {
     "data": {
      "text/plain": [
       "['x-z', 'y-z']"
      ]
     },
     "execution_count": 1265,
     "metadata": {},
     "output_type": "execute_result"
    }
   ],
   "source": [
    "skeleton"
   ]
  },
  {
   "cell_type": "code",
   "execution_count": 1244,
   "metadata": {},
   "outputs": [],
   "source": [
    "# x -> y <- z, r_z <- y\n",
    "size=1000\n",
    "x = np.random.normal(size=size)\n",
    "z = np.random.normal(size=size)\n",
    "y = x + z + np.random.normal(size=size)\n",
    "r_z = y > 4"
   ]
  },
  {
   "cell_type": "code",
   "execution_count": 1245,
   "metadata": {},
   "outputs": [
    {
     "data": {
      "text/plain": [
       "count    1000.000000\n",
       "mean       -0.112791\n",
       "std         1.801885\n",
       "min        -5.502694\n",
       "25%        -1.341620\n",
       "50%        -0.188522\n",
       "75%         1.132293\n",
       "max         5.783747\n",
       "dtype: float64"
      ]
     },
     "execution_count": 1245,
     "metadata": {},
     "output_type": "execute_result"
    }
   ],
   "source": [
    "pd.Series(y).describe()"
   ]
  },
  {
   "cell_type": "code",
   "execution_count": 1246,
   "metadata": {},
   "outputs": [],
   "source": [
    "df_5 = pd.DataFrame({ 'x': x, 'z': z, 'y': y, 'R_z': r_z})\n"
   ]
  },
  {
   "cell_type": "code",
   "execution_count": 1247,
   "metadata": {},
   "outputs": [],
   "source": [
    "no_missing_df_5 = df_5.dropna()"
   ]
  },
  {
   "cell_type": "code",
   "execution_count": 1248,
   "metadata": {},
   "outputs": [
    {
     "data": {
      "text/plain": [
       "(1000, 4)"
      ]
     },
     "execution_count": 1248,
     "metadata": {},
     "output_type": "execute_result"
    }
   ],
   "source": [
    "no_missing_df_5.shape"
   ]
  },
  {
   "cell_type": "code",
   "execution_count": 1254,
   "metadata": {},
   "outputs": [],
   "source": [
    "preprocessor = EuclideanDistanceDataPreprocessor(\n",
    "    continuous_var_names=['x','y','z'],\n",
    "    data=df_5,\n",
    "    multi_choice_categorical_var_names=[],\n",
    "    single_choice_categorical_var_names=[]\n",
    ")\n",
    "\n",
    "preprocessed = preprocessor.preprocess()"
   ]
  },
  {
   "cell_type": "code",
   "execution_count": 1255,
   "metadata": {},
   "outputs": [
    {
     "data": {
      "text/plain": [
       "x    1.0\n",
       "y    1.0\n",
       "z    1.0\n",
       "dtype: float64"
      ]
     },
     "execution_count": 1255,
     "metadata": {},
     "output_type": "execute_result"
    }
   ],
   "source": [
    "preprocessed.max()"
   ]
  },
  {
   "cell_type": "code",
   "execution_count": 1256,
   "metadata": {},
   "outputs": [
    {
     "data": {
      "text/plain": [
       "x    0.0\n",
       "y    0.0\n",
       "z    0.0\n",
       "dtype: float64"
      ]
     },
     "execution_count": 1256,
     "metadata": {},
     "output_type": "execute_result"
    }
   ],
   "source": [
    "preprocessed.min()"
   ]
  },
  {
   "cell_type": "code",
   "execution_count": 1261,
   "metadata": {},
   "outputs": [
    {
     "name": "stdout",
     "output_type": "stream",
     "text": [
      "var_1_col_names Index(['x'], dtype='object')\n",
      "var_2_col_names Index(['y'], dtype='object')\n",
      "conditioning_set_col_names Index([], dtype='object')\n",
      "var_1_col_names Index(['x'], dtype='object')\n",
      "var_2_col_names Index(['y'], dtype='object')\n",
      "conditioning_set_col_names Index(['z'], dtype='object')\n",
      "Found independence. p_value: 0.09\n",
      "var_1_col_names Index(['x'], dtype='object')\n",
      "var_2_col_names Index(['z'], dtype='object')\n",
      "conditioning_set_col_names Index([], dtype='object')\n",
      "Found independence. p_value: 0.48\n",
      "var_1_col_names Index(['y'], dtype='object')\n",
      "var_2_col_names Index(['z'], dtype='object')\n",
      "conditioning_set_col_names Index([], dtype='object')\n",
      "var_1_col_names Index(['y'], dtype='object')\n",
      "var_2_col_names Index(['z'], dtype='object')\n",
      "conditioning_set_col_names Index(['x'], dtype='object')\n",
      "Did not find Independence. p_value: 0.01\n"
     ]
    }
   ],
   "source": [
    "skeleton_finder = SkeletonFinder(var_names=['x', 'y', 'z'], data=preprocessed, missingness_indicator_prefix='R_')\n",
    "skeleton = skeleton_finder.find()"
   ]
  },
  {
   "cell_type": "code",
   "execution_count": 1263,
   "metadata": {},
   "outputs": [
    {
     "data": {
      "text/plain": [
       "['y-z']"
      ]
     },
     "execution_count": 1263,
     "metadata": {},
     "output_type": "execute_result"
    }
   ],
   "source": [
    "skeleton"
   ]
  },
  {
   "cell_type": "code",
   "execution_count": 1186,
   "metadata": {},
   "outputs": [
    {
     "name": "stdout",
     "output_type": "stream",
     "text": [
      "var_1_col_names Index(['x'], dtype='object')\n",
      "var_2_col_names Index(['y'], dtype='object')\n",
      "conditioning_set_col_names Index([], dtype='object')\n",
      "var_1_col_names Index(['x'], dtype='object')\n",
      "var_2_col_names Index(['y'], dtype='object')\n",
      "conditioning_set_col_names Index(['z'], dtype='object')\n",
      "Did not find Independence\n",
      "var_1_col_names Index(['x'], dtype='object')\n",
      "var_2_col_names Index(['z'], dtype='object')\n",
      "conditioning_set_col_names Index([], dtype='object')\n",
      "var_1_col_names Index(['x'], dtype='object')\n",
      "var_2_col_names Index(['z'], dtype='object')\n",
      "conditioning_set_col_names Index(['y'], dtype='object')\n",
      "Did not find Independence\n",
      "var_1_col_names Index(['y'], dtype='object')\n",
      "var_2_col_names Index(['z'], dtype='object')\n",
      "conditioning_set_col_names Index([], dtype='object')\n",
      "var_1_col_names Index(['y'], dtype='object')\n",
      "var_2_col_names Index(['z'], dtype='object')\n",
      "conditioning_set_col_names Index(['x'], dtype='object')\n",
      "Did not find Independence\n"
     ]
    }
   ],
   "source": [
    "df_6 = pd.DataFrame({ 'x': x, 'z': z, 'y': y, 'R_z': r_z})\n",
    "\n",
    "skeleton_finder = SkeletonFinder(var_names=['x', 'y', 'z'], data=df_6, missingness_indicator_prefix='R_')\n",
    "skeleton = skeleton_finder.find()"
   ]
  },
  {
   "cell_type": "code",
   "execution_count": 1187,
   "metadata": {},
   "outputs": [
    {
     "data": {
      "text/plain": [
       "['x-y', 'x-z', 'y-z']"
      ]
     },
     "execution_count": 1187,
     "metadata": {},
     "output_type": "execute_result"
    }
   ],
   "source": [
    "skeleton"
   ]
  },
  {
   "cell_type": "code",
   "execution_count": 1190,
   "metadata": {},
   "outputs": [
    {
     "data": {
      "text/plain": [
       "(10000, 3)"
      ]
     },
     "execution_count": 1190,
     "metadata": {},
     "output_type": "execute_result"
    }
   ],
   "source": [
    "preprocessed.shape"
   ]
  },
  {
   "cell_type": "code",
   "execution_count": 1189,
   "metadata": {},
   "outputs": [
    {
     "data": {
      "text/plain": [
       "(10000, 4)"
      ]
     },
     "execution_count": 1189,
     "metadata": {},
     "output_type": "execute_result"
    }
   ],
   "source": [
    "df_6.shape"
   ]
  },
  {
   "cell_type": "code",
   "execution_count": 1166,
   "metadata": {},
   "outputs": [],
   "source": [
    "train, test = train_test_split(\n",
    "    no_missing_df_5.dropna(), \n",
    "    test_size=0.2\n",
    ")"
   ]
  },
  {
   "cell_type": "code",
   "execution_count": 1012,
   "metadata": {},
   "outputs": [],
   "source": [
    "z_tensor = theano.shared(train.z.values.astype('float64'))\n",
    "y_tensor = theano.shared(train.y.values.astype('float64'))\n",
    "x_tensor = theano.shared(train.x.values.astype('float64'))"
   ]
  },
  {
   "cell_type": "code",
   "execution_count": 1017,
   "metadata": {},
   "outputs": [
    {
     "data": {
      "text/html": [
       "\n",
       "    <div>\n",
       "        <style>\n",
       "            /* Turns off some styling */\n",
       "            progress {\n",
       "                /* gets rid of default border in Firefox and Opera. */\n",
       "                border: none;\n",
       "                /* Needs to be in here for Safari polyfill so background images work as expected. */\n",
       "                background-size: auto;\n",
       "            }\n",
       "            .progress-bar-interrupted, .progress-bar-interrupted::-webkit-progress-bar {\n",
       "                background: #F44336;\n",
       "            }\n",
       "        </style>\n",
       "      <progress value='30000' class='' max='30000' style='width:300px; height:20px; vertical-align: middle;'></progress>\n",
       "      100.00% [30000/30000 00:03<00:00 Average Loss = 153.71]\n",
       "    </div>\n",
       "    "
      ],
      "text/plain": [
       "<IPython.core.display.HTML object>"
      ]
     },
     "metadata": {},
     "output_type": "display_data"
    },
    {
     "name": "stderr",
     "output_type": "stream",
     "text": [
      "Finished [100%]: Average Loss = 153.75\n"
     ]
    }
   ],
   "source": [
    "with pm.Model() as model:\n",
    "    alpha_prior = pm.HalfNormal('alpha', sd=2, shape=1)\n",
    "    beta_1_prior = pm.Normal('beta_1', mu=0, sd=2, shape=1)\n",
    "    beta_2_prior = pm.Normal('beta_2', mu=0, sd=2, shape=1)\n",
    "    sigma_prior = pm.HalfNormal('sigma', sd=2, shape=1)\n",
    "    \n",
    "    mu_likelihood = alpha_prior + beta_1_prior * x_tensor + beta_2_prior * z_tensor\n",
    "    y_likelihood = pm.Normal('y', mu=mu_likelihood, sd=sigma_prior, observed=y_tensor)\n",
    "    \n",
    "    map_tensor_batch = {y_tensor: pm.Minibatch(train.y.values, 100),\n",
    "                    x_tensor: pm.Minibatch(train.x.values, 100),\n",
    "                    z_tensor: pm.Minibatch(train.z.values, 100)}\n",
    "    \n",
    "    advi_fit = pm.fit(method=pm.ADVI(), n=30000,\n",
    "                      more_replacements=map_tensor_batch)\n"
   ]
  },
  {
   "cell_type": "code",
   "execution_count": 1020,
   "metadata": {},
   "outputs": [
    {
     "data": {
      "image/png": "[encoded data removed]",
      "text/plain": [
       "<Figure size 432x288 with 1 Axes>"
      ]
     },
     "metadata": {
      "needs_background": "light"
     },
     "output_type": "display_data"
    }
   ],
   "source": [
    "advi_elbo = pd.DataFrame(\n",
    "    {'log-ELBO': -np.log(advi_fit.hist),\n",
    "     'n': np.arange(advi_fit.hist.shape[0])})\n",
    "\n",
    "_ = sns.lineplot(y='log-ELBO', x='n', data=advi_elbo)"
   ]
  },
  {
   "cell_type": "code",
   "execution_count": 1021,
   "metadata": {},
   "outputs": [
    {
     "name": "stderr",
     "output_type": "stream",
     "text": [
      "/Users/eugaddan/Developer/causal_discovery/env/lib/python3.7/site-packages/arviz/data/io_pymc3.py:91: FutureWarning: Using `from_pymc3` without the model will be deprecated in a future release. Not using the model will return less accurate and less useful results. Make sure you use the model argument or call from_pymc3 within a model context.\n",
      "  FutureWarning,\n"
     ]
    },
    {
     "data": {
      "text/plain": [
       "array([<matplotlib.axes._subplots.AxesSubplot object at 0x7fd302448110>,\n",
       "       <matplotlib.axes._subplots.AxesSubplot object at 0x7fd30254e290>,\n",
       "       <matplotlib.axes._subplots.AxesSubplot object at 0x7fd302fc3810>,\n",
       "       <matplotlib.axes._subplots.AxesSubplot object at 0x7fd302f91a10>],\n",
       "      dtype=object)"
      ]
     },
     "execution_count": 1021,
     "metadata": {},
     "output_type": "execute_result"
    },
    {
     "data": {
      "image/png": "[encoded data removed]",
      "text/plain": [
       "<Figure size 1987.2x331.2 with 4 Axes>"
      ]
     },
     "metadata": {
      "needs_background": "light"
     },
     "output_type": "display_data"
    }
   ],
   "source": [
    "pm.plot_posterior(advi_fit.sample(10000))"
   ]
  },
  {
   "cell_type": "code",
   "execution_count": 966,
   "metadata": {},
   "outputs": [
    {
     "data": {
      "text/html": [
       "<div>\n",
       "<style scoped>\n",
       "    .dataframe tbody tr th:only-of-type {\n",
       "        vertical-align: middle;\n",
       "    }\n",
       "\n",
       "    .dataframe tbody tr th {\n",
       "        vertical-align: top;\n",
       "    }\n",
       "\n",
       "    .dataframe thead th {\n",
       "        text-align: right;\n",
       "    }\n",
       "</style>\n",
       "<table border=\"1\" class=\"dataframe\">\n",
       "  <thead>\n",
       "    <tr style=\"text-align: right;\">\n",
       "      <th></th>\n",
       "      <th>x</th>\n",
       "      <th>z</th>\n",
       "      <th>y</th>\n",
       "      <th>R_z</th>\n",
       "    </tr>\n",
       "  </thead>\n",
       "  <tbody>\n",
       "    <tr>\n",
       "      <th>0</th>\n",
       "      <td>-0.296313</td>\n",
       "      <td>-0.382816</td>\n",
       "      <td>-2.037590</td>\n",
       "      <td>False</td>\n",
       "    </tr>\n",
       "    <tr>\n",
       "      <th>1</th>\n",
       "      <td>-0.237491</td>\n",
       "      <td>-0.424934</td>\n",
       "      <td>0.692791</td>\n",
       "      <td>False</td>\n",
       "    </tr>\n",
       "    <tr>\n",
       "      <th>2</th>\n",
       "      <td>-0.744676</td>\n",
       "      <td>2.153553</td>\n",
       "      <td>2.457501</td>\n",
       "      <td>False</td>\n",
       "    </tr>\n",
       "    <tr>\n",
       "      <th>3</th>\n",
       "      <td>1.611437</td>\n",
       "      <td>1.773099</td>\n",
       "      <td>3.253170</td>\n",
       "      <td>False</td>\n",
       "    </tr>\n",
       "    <tr>\n",
       "      <th>4</th>\n",
       "      <td>1.138999</td>\n",
       "      <td>-1.323489</td>\n",
       "      <td>0.204069</td>\n",
       "      <td>False</td>\n",
       "    </tr>\n",
       "    <tr>\n",
       "      <th>...</th>\n",
       "      <td>...</td>\n",
       "      <td>...</td>\n",
       "      <td>...</td>\n",
       "      <td>...</td>\n",
       "    </tr>\n",
       "    <tr>\n",
       "      <th>9995</th>\n",
       "      <td>-2.016625</td>\n",
       "      <td>-0.003577</td>\n",
       "      <td>-0.905110</td>\n",
       "      <td>False</td>\n",
       "    </tr>\n",
       "    <tr>\n",
       "      <th>9996</th>\n",
       "      <td>0.502330</td>\n",
       "      <td>0.094214</td>\n",
       "      <td>0.371373</td>\n",
       "      <td>False</td>\n",
       "    </tr>\n",
       "    <tr>\n",
       "      <th>9997</th>\n",
       "      <td>1.322663</td>\n",
       "      <td>0.427798</td>\n",
       "      <td>2.502303</td>\n",
       "      <td>False</td>\n",
       "    </tr>\n",
       "    <tr>\n",
       "      <th>9998</th>\n",
       "      <td>2.109057</td>\n",
       "      <td>-0.623514</td>\n",
       "      <td>0.547260</td>\n",
       "      <td>False</td>\n",
       "    </tr>\n",
       "    <tr>\n",
       "      <th>9999</th>\n",
       "      <td>-0.658596</td>\n",
       "      <td>-0.857601</td>\n",
       "      <td>-0.760974</td>\n",
       "      <td>False</td>\n",
       "    </tr>\n",
       "  </tbody>\n",
       "</table>\n",
       "<p>10000 rows × 4 columns</p>\n",
       "</div>"
      ],
      "text/plain": [
       "             x         z         y    R_z\n",
       "0    -0.296313 -0.382816 -2.037590  False\n",
       "1    -0.237491 -0.424934  0.692791  False\n",
       "2    -0.744676  2.153553  2.457501  False\n",
       "3     1.611437  1.773099  3.253170  False\n",
       "4     1.138999 -1.323489  0.204069  False\n",
       "...        ...       ...       ...    ...\n",
       "9995 -2.016625 -0.003577 -0.905110  False\n",
       "9996  0.502330  0.094214  0.371373  False\n",
       "9997  1.322663  0.427798  2.502303  False\n",
       "9998  2.109057 -0.623514  0.547260  False\n",
       "9999 -0.658596 -0.857601 -0.760974  False\n",
       "\n",
       "[10000 rows x 4 columns]"
      ]
     },
     "execution_count": 966,
     "metadata": {},
     "output_type": "execute_result"
    }
   ],
   "source": [
    "df_5"
   ]
  },
  {
   "cell_type": "code",
   "execution_count": 967,
   "metadata": {},
   "outputs": [],
   "source": [
    "df_5.at[r_z,'z'] = np.nan"
   ]
  },
  {
   "cell_type": "code",
   "execution_count": 968,
   "metadata": {},
   "outputs": [
    {
     "data": {
      "text/html": [
       "<div>\n",
       "<style scoped>\n",
       "    .dataframe tbody tr th:only-of-type {\n",
       "        vertical-align: middle;\n",
       "    }\n",
       "\n",
       "    .dataframe tbody tr th {\n",
       "        vertical-align: top;\n",
       "    }\n",
       "\n",
       "    .dataframe thead th {\n",
       "        text-align: right;\n",
       "    }\n",
       "</style>\n",
       "<table border=\"1\" class=\"dataframe\">\n",
       "  <thead>\n",
       "    <tr style=\"text-align: right;\">\n",
       "      <th></th>\n",
       "      <th>x</th>\n",
       "      <th>z</th>\n",
       "      <th>y</th>\n",
       "      <th>R_z</th>\n",
       "    </tr>\n",
       "  </thead>\n",
       "  <tbody>\n",
       "    <tr>\n",
       "      <th>0</th>\n",
       "      <td>-0.296313</td>\n",
       "      <td>-0.382816</td>\n",
       "      <td>-2.037590</td>\n",
       "      <td>False</td>\n",
       "    </tr>\n",
       "    <tr>\n",
       "      <th>1</th>\n",
       "      <td>-0.237491</td>\n",
       "      <td>-0.424934</td>\n",
       "      <td>0.692791</td>\n",
       "      <td>False</td>\n",
       "    </tr>\n",
       "    <tr>\n",
       "      <th>2</th>\n",
       "      <td>-0.744676</td>\n",
       "      <td>2.153553</td>\n",
       "      <td>2.457501</td>\n",
       "      <td>False</td>\n",
       "    </tr>\n",
       "    <tr>\n",
       "      <th>3</th>\n",
       "      <td>1.611437</td>\n",
       "      <td>1.773099</td>\n",
       "      <td>3.253170</td>\n",
       "      <td>False</td>\n",
       "    </tr>\n",
       "    <tr>\n",
       "      <th>4</th>\n",
       "      <td>1.138999</td>\n",
       "      <td>-1.323489</td>\n",
       "      <td>0.204069</td>\n",
       "      <td>False</td>\n",
       "    </tr>\n",
       "    <tr>\n",
       "      <th>...</th>\n",
       "      <td>...</td>\n",
       "      <td>...</td>\n",
       "      <td>...</td>\n",
       "      <td>...</td>\n",
       "    </tr>\n",
       "    <tr>\n",
       "      <th>9995</th>\n",
       "      <td>-2.016625</td>\n",
       "      <td>-0.003577</td>\n",
       "      <td>-0.905110</td>\n",
       "      <td>False</td>\n",
       "    </tr>\n",
       "    <tr>\n",
       "      <th>9996</th>\n",
       "      <td>0.502330</td>\n",
       "      <td>0.094214</td>\n",
       "      <td>0.371373</td>\n",
       "      <td>False</td>\n",
       "    </tr>\n",
       "    <tr>\n",
       "      <th>9997</th>\n",
       "      <td>1.322663</td>\n",
       "      <td>0.427798</td>\n",
       "      <td>2.502303</td>\n",
       "      <td>False</td>\n",
       "    </tr>\n",
       "    <tr>\n",
       "      <th>9998</th>\n",
       "      <td>2.109057</td>\n",
       "      <td>-0.623514</td>\n",
       "      <td>0.547260</td>\n",
       "      <td>False</td>\n",
       "    </tr>\n",
       "    <tr>\n",
       "      <th>9999</th>\n",
       "      <td>-0.658596</td>\n",
       "      <td>-0.857601</td>\n",
       "      <td>-0.760974</td>\n",
       "      <td>False</td>\n",
       "    </tr>\n",
       "  </tbody>\n",
       "</table>\n",
       "<p>10000 rows × 4 columns</p>\n",
       "</div>"
      ],
      "text/plain": [
       "             x         z         y    R_z\n",
       "0    -0.296313 -0.382816 -2.037590  False\n",
       "1    -0.237491 -0.424934  0.692791  False\n",
       "2    -0.744676  2.153553  2.457501  False\n",
       "3     1.611437  1.773099  3.253170  False\n",
       "4     1.138999 -1.323489  0.204069  False\n",
       "...        ...       ...       ...    ...\n",
       "9995 -2.016625 -0.003577 -0.905110  False\n",
       "9996  0.502330  0.094214  0.371373  False\n",
       "9997  1.322663  0.427798  2.502303  False\n",
       "9998  2.109057 -0.623514  0.547260  False\n",
       "9999 -0.658596 -0.857601 -0.760974  False\n",
       "\n",
       "[10000 rows x 4 columns]"
      ]
     },
     "execution_count": 968,
     "metadata": {},
     "output_type": "execute_result"
    }
   ],
   "source": [
    "df_5"
   ]
  },
  {
   "cell_type": "code",
   "execution_count": null,
   "metadata": {},
   "outputs": [],
   "source": []
  },
  {
   "cell_type": "code",
   "execution_count": 999,
   "metadata": {},
   "outputs": [
    {
     "data": {
      "text/html": [
       "<div>\n",
       "<style scoped>\n",
       "    .dataframe tbody tr th:only-of-type {\n",
       "        vertical-align: middle;\n",
       "    }\n",
       "\n",
       "    .dataframe tbody tr th {\n",
       "        vertical-align: top;\n",
       "    }\n",
       "\n",
       "    .dataframe thead th {\n",
       "        text-align: right;\n",
       "    }\n",
       "</style>\n",
       "<table border=\"1\" class=\"dataframe\">\n",
       "  <thead>\n",
       "    <tr style=\"text-align: right;\">\n",
       "      <th></th>\n",
       "      <th>x</th>\n",
       "      <th>z</th>\n",
       "      <th>y</th>\n",
       "      <th>R_z</th>\n",
       "    </tr>\n",
       "  </thead>\n",
       "  <tbody>\n",
       "    <tr>\n",
       "      <th>count</th>\n",
       "      <td>10000</td>\n",
       "      <td>10000</td>\n",
       "      <td>10000</td>\n",
       "      <td>10000</td>\n",
       "    </tr>\n",
       "    <tr>\n",
       "      <th>unique</th>\n",
       "      <td>1</td>\n",
       "      <td>2</td>\n",
       "      <td>1</td>\n",
       "      <td>1</td>\n",
       "    </tr>\n",
       "    <tr>\n",
       "      <th>top</th>\n",
       "      <td>False</td>\n",
       "      <td>False</td>\n",
       "      <td>False</td>\n",
       "      <td>False</td>\n",
       "    </tr>\n",
       "    <tr>\n",
       "      <th>freq</th>\n",
       "      <td>10000</td>\n",
       "      <td>9881</td>\n",
       "      <td>10000</td>\n",
       "      <td>10000</td>\n",
       "    </tr>\n",
       "  </tbody>\n",
       "</table>\n",
       "</div>"
      ],
      "text/plain": [
       "            x      z      y    R_z\n",
       "count   10000  10000  10000  10000\n",
       "unique      1      2      1      1\n",
       "top     False  False  False  False\n",
       "freq    10000   9881  10000  10000"
      ]
     },
     "execution_count": 999,
     "metadata": {},
     "output_type": "execute_result"
    }
   ],
   "source": [
    "df_5.isnull().describe()"
   ]
  },
  {
   "cell_type": "code",
   "execution_count": 1122,
   "metadata": {},
   "outputs": [
    {
     "data": {
      "text/html": [
       "<div>\n",
       "<style scoped>\n",
       "    .dataframe tbody tr th:only-of-type {\n",
       "        vertical-align: middle;\n",
       "    }\n",
       "\n",
       "    .dataframe tbody tr th {\n",
       "        vertical-align: top;\n",
       "    }\n",
       "\n",
       "    .dataframe thead th {\n",
       "        text-align: right;\n",
       "    }\n",
       "</style>\n",
       "<table border=\"1\" class=\"dataframe\">\n",
       "  <thead>\n",
       "    <tr style=\"text-align: right;\">\n",
       "      <th></th>\n",
       "      <th>x</th>\n",
       "      <th>z</th>\n",
       "      <th>y</th>\n",
       "      <th>R_z</th>\n",
       "    </tr>\n",
       "  </thead>\n",
       "  <tbody>\n",
       "    <tr>\n",
       "      <th>0</th>\n",
       "      <td>0.878379</td>\n",
       "      <td>0.660873</td>\n",
       "      <td>1.207298</td>\n",
       "      <td>False</td>\n",
       "    </tr>\n",
       "    <tr>\n",
       "      <th>1</th>\n",
       "      <td>0.662158</td>\n",
       "      <td>0.025570</td>\n",
       "      <td>0.815833</td>\n",
       "      <td>False</td>\n",
       "    </tr>\n",
       "    <tr>\n",
       "      <th>2</th>\n",
       "      <td>0.595516</td>\n",
       "      <td>-1.338051</td>\n",
       "      <td>-0.040711</td>\n",
       "      <td>False</td>\n",
       "    </tr>\n",
       "    <tr>\n",
       "      <th>3</th>\n",
       "      <td>1.974887</td>\n",
       "      <td>-1.392191</td>\n",
       "      <td>1.472739</td>\n",
       "      <td>False</td>\n",
       "    </tr>\n",
       "    <tr>\n",
       "      <th>4</th>\n",
       "      <td>0.261434</td>\n",
       "      <td>-0.124756</td>\n",
       "      <td>-1.585082</td>\n",
       "      <td>False</td>\n",
       "    </tr>\n",
       "    <tr>\n",
       "      <th>...</th>\n",
       "      <td>...</td>\n",
       "      <td>...</td>\n",
       "      <td>...</td>\n",
       "      <td>...</td>\n",
       "    </tr>\n",
       "    <tr>\n",
       "      <th>995</th>\n",
       "      <td>0.068012</td>\n",
       "      <td>-0.677871</td>\n",
       "      <td>-0.446150</td>\n",
       "      <td>False</td>\n",
       "    </tr>\n",
       "    <tr>\n",
       "      <th>996</th>\n",
       "      <td>-0.708455</td>\n",
       "      <td>-0.689112</td>\n",
       "      <td>0.307811</td>\n",
       "      <td>False</td>\n",
       "    </tr>\n",
       "    <tr>\n",
       "      <th>997</th>\n",
       "      <td>0.291756</td>\n",
       "      <td>-1.364561</td>\n",
       "      <td>-0.314959</td>\n",
       "      <td>False</td>\n",
       "    </tr>\n",
       "    <tr>\n",
       "      <th>998</th>\n",
       "      <td>0.536525</td>\n",
       "      <td>-0.555635</td>\n",
       "      <td>-0.411106</td>\n",
       "      <td>False</td>\n",
       "    </tr>\n",
       "    <tr>\n",
       "      <th>999</th>\n",
       "      <td>-1.175492</td>\n",
       "      <td>-2.284178</td>\n",
       "      <td>-2.067232</td>\n",
       "      <td>False</td>\n",
       "    </tr>\n",
       "  </tbody>\n",
       "</table>\n",
       "<p>1000 rows × 4 columns</p>\n",
       "</div>"
      ],
      "text/plain": [
       "            x         z         y    R_z\n",
       "0    0.878379  0.660873  1.207298  False\n",
       "1    0.662158  0.025570  0.815833  False\n",
       "2    0.595516 -1.338051 -0.040711  False\n",
       "3    1.974887 -1.392191  1.472739  False\n",
       "4    0.261434 -0.124756 -1.585082  False\n",
       "..        ...       ...       ...    ...\n",
       "995  0.068012 -0.677871 -0.446150  False\n",
       "996 -0.708455 -0.689112  0.307811  False\n",
       "997  0.291756 -1.364561 -0.314959  False\n",
       "998  0.536525 -0.555635 -0.411106  False\n",
       "999 -1.175492 -2.284178 -2.067232  False\n",
       "\n",
       "[1000 rows x 4 columns]"
      ]
     },
     "execution_count": 1122,
     "metadata": {},
     "output_type": "execute_result"
    }
   ],
   "source": [
    "df_5"
   ]
  },
  {
   "cell_type": "code",
   "execution_count": 1126,
   "metadata": {},
   "outputs": [
    {
     "data": {
      "text/html": [
       "<div>\n",
       "<style scoped>\n",
       "    .dataframe tbody tr th:only-of-type {\n",
       "        vertical-align: middle;\n",
       "    }\n",
       "\n",
       "    .dataframe tbody tr th {\n",
       "        vertical-align: top;\n",
       "    }\n",
       "\n",
       "    .dataframe thead th {\n",
       "        text-align: right;\n",
       "    }\n",
       "</style>\n",
       "<table border=\"1\" class=\"dataframe\">\n",
       "  <thead>\n",
       "    <tr style=\"text-align: right;\">\n",
       "      <th></th>\n",
       "      <th>x</th>\n",
       "      <th>z</th>\n",
       "      <th>y</th>\n",
       "      <th>R_z</th>\n",
       "    </tr>\n",
       "  </thead>\n",
       "  <tbody>\n",
       "    <tr>\n",
       "      <th>0</th>\n",
       "      <td>0.878379</td>\n",
       "      <td>0.660873</td>\n",
       "      <td>1.207298</td>\n",
       "      <td>False</td>\n",
       "    </tr>\n",
       "    <tr>\n",
       "      <th>1</th>\n",
       "      <td>0.662158</td>\n",
       "      <td>0.025570</td>\n",
       "      <td>0.815833</td>\n",
       "      <td>False</td>\n",
       "    </tr>\n",
       "    <tr>\n",
       "      <th>2</th>\n",
       "      <td>0.595516</td>\n",
       "      <td>-1.338051</td>\n",
       "      <td>-0.040711</td>\n",
       "      <td>False</td>\n",
       "    </tr>\n",
       "    <tr>\n",
       "      <th>3</th>\n",
       "      <td>1.974887</td>\n",
       "      <td>-1.392191</td>\n",
       "      <td>1.472739</td>\n",
       "      <td>False</td>\n",
       "    </tr>\n",
       "    <tr>\n",
       "      <th>4</th>\n",
       "      <td>0.261434</td>\n",
       "      <td>-0.124756</td>\n",
       "      <td>-1.585082</td>\n",
       "      <td>False</td>\n",
       "    </tr>\n",
       "    <tr>\n",
       "      <th>...</th>\n",
       "      <td>...</td>\n",
       "      <td>...</td>\n",
       "      <td>...</td>\n",
       "      <td>...</td>\n",
       "    </tr>\n",
       "    <tr>\n",
       "      <th>995</th>\n",
       "      <td>0.068012</td>\n",
       "      <td>-0.677871</td>\n",
       "      <td>-0.446150</td>\n",
       "      <td>False</td>\n",
       "    </tr>\n",
       "    <tr>\n",
       "      <th>996</th>\n",
       "      <td>-0.708455</td>\n",
       "      <td>-0.689112</td>\n",
       "      <td>0.307811</td>\n",
       "      <td>False</td>\n",
       "    </tr>\n",
       "    <tr>\n",
       "      <th>997</th>\n",
       "      <td>0.291756</td>\n",
       "      <td>-1.364561</td>\n",
       "      <td>-0.314959</td>\n",
       "      <td>False</td>\n",
       "    </tr>\n",
       "    <tr>\n",
       "      <th>998</th>\n",
       "      <td>0.536525</td>\n",
       "      <td>-0.555635</td>\n",
       "      <td>-0.411106</td>\n",
       "      <td>False</td>\n",
       "    </tr>\n",
       "    <tr>\n",
       "      <th>999</th>\n",
       "      <td>-1.175492</td>\n",
       "      <td>-2.284178</td>\n",
       "      <td>-2.067232</td>\n",
       "      <td>False</td>\n",
       "    </tr>\n",
       "  </tbody>\n",
       "</table>\n",
       "<p>1000 rows × 4 columns</p>\n",
       "</div>"
      ],
      "text/plain": [
       "            x         z         y    R_z\n",
       "0    0.878379  0.660873  1.207298  False\n",
       "1    0.662158  0.025570  0.815833  False\n",
       "2    0.595516 -1.338051 -0.040711  False\n",
       "3    1.974887 -1.392191  1.472739  False\n",
       "4    0.261434 -0.124756 -1.585082  False\n",
       "..        ...       ...       ...    ...\n",
       "995  0.068012 -0.677871 -0.446150  False\n",
       "996 -0.708455 -0.689112  0.307811  False\n",
       "997  0.291756 -1.364561 -0.314959  False\n",
       "998  0.536525 -0.555635 -0.411106  False\n",
       "999 -1.175492 -2.284178 -2.067232  False\n",
       "\n",
       "[1000 rows x 4 columns]"
      ]
     },
     "execution_count": 1126,
     "metadata": {},
     "output_type": "execute_result"
    }
   ],
   "source": [
    "df_5"
   ]
  },
  {
   "cell_type": "code",
   "execution_count": 1158,
   "metadata": {},
   "outputs": [
    {
     "data": {
      "text/plain": [
       "['x-y', 'y-z']"
      ]
     },
     "execution_count": 1158,
     "metadata": {},
     "output_type": "execute_result"
    }
   ],
   "source": [
    "skeleton"
   ]
  },
  {
   "cell_type": "code",
   "execution_count": 821,
   "metadata": {},
   "outputs": [
    {
     "data": {
      "text/plain": [
       "0      NaN\n",
       "1      NaN\n",
       "2      NaN\n",
       "3      NaN\n",
       "4      NaN\n",
       "        ..\n",
       "9995   NaN\n",
       "9996   NaN\n",
       "9997   NaN\n",
       "9998   NaN\n",
       "9999   NaN\n",
       "Name: r_z, Length: 10000, dtype: float64"
      ]
     },
     "execution_count": 821,
     "metadata": {},
     "output_type": "execute_result"
    }
   ],
   "source": [
    "df_5['r_z'] * np.nan"
   ]
  },
  {
   "cell_type": "code",
   "execution_count": null,
   "metadata": {},
   "outputs": [],
   "source": [
    "df_randomly_deleted = df_"
   ]
  },
  {
   "cell_type": "code",
   "execution_count": null,
   "metadata": {},
   "outputs": [],
   "source": [
    "SkeletonFinder"
   ]
  }
 ],
 "metadata": {
  "kernelspec": {
   "display_name": "Python 3",
   "language": "python",
   "name": "python3"
  },
  "language_info": {
   "codemirror_mode": {
    "name": "ipython",
    "version": 3
   },
   "file_extension": ".py",
   "mimetype": "text/x-python",
   "name": "python",
   "nbconvert_exporter": "python",
   "pygments_lexer": "ipython3",
   "version": "3.7.8"
  }
 },
 "nbformat": 4,
 "nbformat_minor": 4
}
